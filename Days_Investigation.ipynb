{
 "cells": [
  {
   "cell_type": "code",
   "execution_count": 1,
   "metadata": {},
   "outputs": [],
   "source": [
    "import pandas as pd\n",
    "import os\n",
    "import matplotlib.pyplot as plt\n",
    "from datetime import datetime, timedelta"
   ]
  },
  {
   "cell_type": "code",
   "execution_count": 2,
   "metadata": {},
   "outputs": [
    {
     "name": "stderr",
     "output_type": "stream",
     "text": [
      "C:\\Users\\anaconda\\Anaconda3\\lib\\site-packages\\IPython\\core\\interactiveshell.py:2785: DtypeWarning: Columns (7) have mixed types. Specify dtype option on import or set low_memory=False.\n",
      "  interactivity=interactivity, compiler=compiler, result=result)\n"
     ]
    }
   ],
   "source": [
    "days = pd.read_csv('C:\\\\Users\\\\승우\\\\Desktop\\\\session_with_holiday.csv', engine='python')\n",
    "product = pd.read_csv('C:\\\\DynamicData\\\\product.csv', encoding='utf-8')"
   ]
  },
  {
   "cell_type": "code",
   "execution_count": 3,
   "metadata": {},
   "outputs": [],
   "source": [
    "days = days.drop(days.columns[0], axis=1)"
   ]
  },
  {
   "cell_type": "code",
   "execution_count": 18,
   "metadata": {
    "scrolled": true
   },
   "outputs": [
    {
     "data": {
      "text/html": [
       "<div>\n",
       "<style scoped>\n",
       "    .dataframe tbody tr th:only-of-type {\n",
       "        vertical-align: middle;\n",
       "    }\n",
       "\n",
       "    .dataframe tbody tr th {\n",
       "        vertical-align: top;\n",
       "    }\n",
       "\n",
       "    .dataframe thead th {\n",
       "        text-align: right;\n",
       "    }\n",
       "</style>\n",
       "<table border=\"1\" class=\"dataframe\">\n",
       "  <thead>\n",
       "    <tr style=\"text-align: right;\">\n",
       "      <th></th>\n",
       "      <th>CLNT_ID</th>\n",
       "      <th>SESS_ID</th>\n",
       "      <th>SESS_SEQ</th>\n",
       "      <th>SESS_DT</th>\n",
       "      <th>TOT_PAG_VIEW_CT</th>\n",
       "      <th>TOT_SESS_HR_V</th>\n",
       "      <th>DVC_CTG_NM</th>\n",
       "      <th>ZON_NM</th>\n",
       "      <th>CITY_NM</th>\n",
       "      <th>Rest</th>\n",
       "    </tr>\n",
       "  </thead>\n",
       "  <tbody>\n",
       "    <tr>\n",
       "      <th>0</th>\n",
       "      <td>5873599</td>\n",
       "      <td>8641867</td>\n",
       "      <td>9</td>\n",
       "      <td>2018-05-09</td>\n",
       "      <td>82.0</td>\n",
       "      <td>1,890</td>\n",
       "      <td>mobile</td>\n",
       "      <td>Daejeon</td>\n",
       "      <td>Daejeon</td>\n",
       "      <td>0</td>\n",
       "    </tr>\n",
       "    <tr>\n",
       "      <th>1</th>\n",
       "      <td>5873599</td>\n",
       "      <td>6616320</td>\n",
       "      <td>21</td>\n",
       "      <td>2018-06-11</td>\n",
       "      <td>105.0</td>\n",
       "      <td>1,604</td>\n",
       "      <td>mobile</td>\n",
       "      <td>Busan</td>\n",
       "      <td>Busan</td>\n",
       "      <td>0</td>\n",
       "    </tr>\n",
       "    <tr>\n",
       "      <th>2</th>\n",
       "      <td>5873599</td>\n",
       "      <td>5886172</td>\n",
       "      <td>40</td>\n",
       "      <td>2018-06-24</td>\n",
       "      <td>41.0</td>\n",
       "      <td>632</td>\n",
       "      <td>mobile</td>\n",
       "      <td>Daejeon</td>\n",
       "      <td>Daejeon</td>\n",
       "      <td>1</td>\n",
       "    </tr>\n",
       "    <tr>\n",
       "      <th>3</th>\n",
       "      <td>5873884</td>\n",
       "      <td>1050889</td>\n",
       "      <td>15</td>\n",
       "      <td>2018-09-13</td>\n",
       "      <td>160.0</td>\n",
       "      <td>1,035</td>\n",
       "      <td>mobile</td>\n",
       "      <td>Gyeonggi-do</td>\n",
       "      <td>Anyang</td>\n",
       "      <td>0</td>\n",
       "    </tr>\n",
       "  </tbody>\n",
       "</table>\n",
       "</div>"
      ],
      "text/plain": [
       "   CLNT_ID  SESS_ID  SESS_SEQ     SESS_DT  TOT_PAG_VIEW_CT TOT_SESS_HR_V  \\\n",
       "0  5873599  8641867         9  2018-05-09             82.0         1,890   \n",
       "1  5873599  6616320        21  2018-06-11            105.0         1,604   \n",
       "2  5873599  5886172        40  2018-06-24             41.0           632   \n",
       "3  5873884  1050889        15  2018-09-13            160.0         1,035   \n",
       "\n",
       "  DVC_CTG_NM       ZON_NM  CITY_NM  Rest  \n",
       "0     mobile      Daejeon  Daejeon     0  \n",
       "1     mobile        Busan    Busan     0  \n",
       "2     mobile      Daejeon  Daejeon     1  \n",
       "3     mobile  Gyeonggi-do   Anyang     0  "
      ]
     },
     "execution_count": 18,
     "metadata": {},
     "output_type": "execute_result"
    }
   ],
   "source": [
    "days.head(4)"
   ]
  },
  {
   "cell_type": "code",
   "execution_count": 4,
   "metadata": {},
   "outputs": [],
   "source": [
    "all_time = days.loc[:,'SESS_DT'].astype('str')\n",
    "days['datetime'] = list(map(lambda x:datetime.strptime(x,'%Y-%m-%d'), all_time))\n",
    "del all_time"
   ]
  },
  {
   "cell_type": "code",
   "execution_count": 6,
   "metadata": {},
   "outputs": [
    {
     "data": {
      "text/html": [
       "<div>\n",
       "<style scoped>\n",
       "    .dataframe tbody tr th:only-of-type {\n",
       "        vertical-align: middle;\n",
       "    }\n",
       "\n",
       "    .dataframe tbody tr th {\n",
       "        vertical-align: top;\n",
       "    }\n",
       "\n",
       "    .dataframe thead th {\n",
       "        text-align: right;\n",
       "    }\n",
       "</style>\n",
       "<table border=\"1\" class=\"dataframe\">\n",
       "  <thead>\n",
       "    <tr style=\"text-align: right;\">\n",
       "      <th></th>\n",
       "      <th>CLNT_ID</th>\n",
       "      <th>SESS_ID</th>\n",
       "      <th>SESS_SEQ</th>\n",
       "      <th>SESS_DT</th>\n",
       "      <th>TOT_PAG_VIEW_CT</th>\n",
       "      <th>TOT_SESS_HR_V</th>\n",
       "      <th>DVC_CTG_NM</th>\n",
       "      <th>ZON_NM</th>\n",
       "      <th>CITY_NM</th>\n",
       "      <th>Rest</th>\n",
       "      <th>datetime</th>\n",
       "    </tr>\n",
       "  </thead>\n",
       "  <tbody>\n",
       "    <tr>\n",
       "      <th>0</th>\n",
       "      <td>5873599</td>\n",
       "      <td>8641867</td>\n",
       "      <td>9</td>\n",
       "      <td>2018-05-09</td>\n",
       "      <td>82.0</td>\n",
       "      <td>1,890</td>\n",
       "      <td>mobile</td>\n",
       "      <td>Daejeon</td>\n",
       "      <td>Daejeon</td>\n",
       "      <td>0</td>\n",
       "      <td>2018-05-09</td>\n",
       "    </tr>\n",
       "    <tr>\n",
       "      <th>1</th>\n",
       "      <td>5873599</td>\n",
       "      <td>6616320</td>\n",
       "      <td>21</td>\n",
       "      <td>2018-06-11</td>\n",
       "      <td>105.0</td>\n",
       "      <td>1,604</td>\n",
       "      <td>mobile</td>\n",
       "      <td>Busan</td>\n",
       "      <td>Busan</td>\n",
       "      <td>0</td>\n",
       "      <td>2018-06-11</td>\n",
       "    </tr>\n",
       "    <tr>\n",
       "      <th>2</th>\n",
       "      <td>5873599</td>\n",
       "      <td>5886172</td>\n",
       "      <td>40</td>\n",
       "      <td>2018-06-24</td>\n",
       "      <td>41.0</td>\n",
       "      <td>632</td>\n",
       "      <td>mobile</td>\n",
       "      <td>Daejeon</td>\n",
       "      <td>Daejeon</td>\n",
       "      <td>1</td>\n",
       "      <td>2018-06-24</td>\n",
       "    </tr>\n",
       "  </tbody>\n",
       "</table>\n",
       "</div>"
      ],
      "text/plain": [
       "   CLNT_ID  SESS_ID  SESS_SEQ     SESS_DT  TOT_PAG_VIEW_CT TOT_SESS_HR_V  \\\n",
       "0  5873599  8641867         9  2018-05-09             82.0         1,890   \n",
       "1  5873599  6616320        21  2018-06-11            105.0         1,604   \n",
       "2  5873599  5886172        40  2018-06-24             41.0           632   \n",
       "\n",
       "  DVC_CTG_NM   ZON_NM  CITY_NM  Rest   datetime  \n",
       "0     mobile  Daejeon  Daejeon     0 2018-05-09  \n",
       "1     mobile    Busan    Busan     0 2018-06-11  \n",
       "2     mobile  Daejeon  Daejeon     1 2018-06-24  "
      ]
     },
     "execution_count": 6,
     "metadata": {},
     "output_type": "execute_result"
    }
   ],
   "source": [
    "days.head(3)"
   ]
  },
  {
   "cell_type": "code",
   "execution_count": 11,
   "metadata": {
    "scrolled": false
   },
   "outputs": [],
   "source": [
    "holidays_list = days.loc[days.loc[:,'Rest']==1,:].loc[:,'SESS_DT'].astype('str')\n",
    "holidays_list = list(map(lambda x:datetime.strptime(x,'%Y-%m-%d'), holidays_list))"
   ]
  },
  {
   "cell_type": "code",
   "execution_count": 82,
   "metadata": {},
   "outputs": [],
   "source": [
    "day_that_day = holidays_list #휴일인 날\n",
    "day_minus1 = list(map(lambda x: x+timedelta(days=-1), holidays_list))\n",
    "day_minus2 = list(map(lambda x: x+timedelta(days=-2), holidays_list))\n",
    "day_minus3 = list(map(lambda x: x+timedelta(days=-3), holidays_list))\n",
    "day_minus4 = list(map(lambda x: x+timedelta(days=-4), holidays_list))\n",
    "day_minus5 = list(map(lambda x: x+timedelta(days=-5), holidays_list))\n",
    "day_minus6 = list(map(lambda x: x+timedelta(days=-6), holidays_list))\n",
    "day_minus7 = list(map(lambda x: x+timedelta(days=-7), holidays_list))"
   ]
  },
  {
   "cell_type": "markdown",
   "metadata": {},
   "source": [
    "### merge"
   ]
  },
  {
   "cell_type": "code",
   "execution_count": 63,
   "metadata": {},
   "outputs": [
    {
     "data": {
      "text/html": [
       "<div>\n",
       "<style scoped>\n",
       "    .dataframe tbody tr th:only-of-type {\n",
       "        vertical-align: middle;\n",
       "    }\n",
       "\n",
       "    .dataframe tbody tr th {\n",
       "        vertical-align: top;\n",
       "    }\n",
       "\n",
       "    .dataframe thead th {\n",
       "        text-align: right;\n",
       "    }\n",
       "</style>\n",
       "<table border=\"1\" class=\"dataframe\">\n",
       "  <thead>\n",
       "    <tr style=\"text-align: right;\">\n",
       "      <th></th>\n",
       "      <th>CLNT_ID</th>\n",
       "      <th>SESS_ID</th>\n",
       "      <th>datetime</th>\n",
       "    </tr>\n",
       "  </thead>\n",
       "  <tbody>\n",
       "    <tr>\n",
       "      <th>0</th>\n",
       "      <td>5873599</td>\n",
       "      <td>8641867</td>\n",
       "      <td>2018-05-09</td>\n",
       "    </tr>\n",
       "    <tr>\n",
       "      <th>1</th>\n",
       "      <td>5873599</td>\n",
       "      <td>6616320</td>\n",
       "      <td>2018-06-11</td>\n",
       "    </tr>\n",
       "    <tr>\n",
       "      <th>2</th>\n",
       "      <td>5873599</td>\n",
       "      <td>5886172</td>\n",
       "      <td>2018-06-24</td>\n",
       "    </tr>\n",
       "    <tr>\n",
       "      <th>3</th>\n",
       "      <td>5873884</td>\n",
       "      <td>1050889</td>\n",
       "      <td>2018-09-13</td>\n",
       "    </tr>\n",
       "  </tbody>\n",
       "</table>\n",
       "</div>"
      ],
      "text/plain": [
       "   CLNT_ID  SESS_ID   datetime\n",
       "0  5873599  8641867 2018-05-09\n",
       "1  5873599  6616320 2018-06-11\n",
       "2  5873599  5886172 2018-06-24\n",
       "3  5873884  1050889 2018-09-13"
      ]
     },
     "execution_count": 63,
     "metadata": {},
     "output_type": "execute_result"
    }
   ],
   "source": [
    "holidays_essential_vari = days.loc[:, ['CLNT_ID', 'SESS_ID', 'datetime']] \n",
    "holidays_essential_vari.head(4)"
   ]
  },
  {
   "cell_type": "code",
   "execution_count": 25,
   "metadata": {
    "scrolled": false
   },
   "outputs": [
    {
     "data": {
      "text/html": [
       "<div>\n",
       "<style scoped>\n",
       "    .dataframe tbody tr th:only-of-type {\n",
       "        vertical-align: middle;\n",
       "    }\n",
       "\n",
       "    .dataframe tbody tr th {\n",
       "        vertical-align: top;\n",
       "    }\n",
       "\n",
       "    .dataframe thead th {\n",
       "        text-align: right;\n",
       "    }\n",
       "</style>\n",
       "<table border=\"1\" class=\"dataframe\">\n",
       "  <thead>\n",
       "    <tr style=\"text-align: right;\">\n",
       "      <th></th>\n",
       "      <th>CLNT_ID</th>\n",
       "      <th>SESS_ID</th>\n",
       "      <th>HITS_SEQ</th>\n",
       "      <th>PD_C</th>\n",
       "      <th>PD_ADD_NM</th>\n",
       "      <th>PD_BRA_NM</th>\n",
       "      <th>PD_BUY_AM</th>\n",
       "      <th>PD_BUY_CT</th>\n",
       "    </tr>\n",
       "  </thead>\n",
       "  <tbody>\n",
       "    <tr>\n",
       "      <th>0</th>\n",
       "      <td>4139680</td>\n",
       "      <td>7605037</td>\n",
       "      <td>12</td>\n",
       "      <td>642112</td>\n",
       "      <td>색상:워터멜론</td>\n",
       "      <td>[바비브라운]</td>\n",
       "      <td>39,000</td>\n",
       "      <td>1</td>\n",
       "    </tr>\n",
       "    <tr>\n",
       "      <th>1</th>\n",
       "      <td>4140076</td>\n",
       "      <td>10189797</td>\n",
       "      <td>13</td>\n",
       "      <td>570603</td>\n",
       "      <td>색상:BLK0_(BLK0)BLACK|사이즈:120 / 2개</td>\n",
       "      <td>데상트</td>\n",
       "      <td>39,000</td>\n",
       "      <td>2</td>\n",
       "    </tr>\n",
       "    <tr>\n",
       "      <th>2</th>\n",
       "      <td>4142395</td>\n",
       "      <td>6158159</td>\n",
       "      <td>85</td>\n",
       "      <td>179538</td>\n",
       "      <td>(not set)</td>\n",
       "      <td>[아베다]</td>\n",
       "      <td>39,000</td>\n",
       "      <td>1</td>\n",
       "    </tr>\n",
       "    <tr>\n",
       "      <th>3</th>\n",
       "      <td>4144914</td>\n",
       "      <td>7935714</td>\n",
       "      <td>12</td>\n",
       "      <td>554336</td>\n",
       "      <td>색상:블랙|사이즈:160cm(12~13세) / 1개</td>\n",
       "      <td>아디다스 키즈</td>\n",
       "      <td>39,000</td>\n",
       "      <td>1</td>\n",
       "    </tr>\n",
       "  </tbody>\n",
       "</table>\n",
       "</div>"
      ],
      "text/plain": [
       "   CLNT_ID   SESS_ID  HITS_SEQ    PD_C                         PD_ADD_NM  \\\n",
       "0  4139680   7605037        12  642112                           색상:워터멜론   \n",
       "1  4140076  10189797        13  570603  색상:BLK0_(BLK0)BLACK|사이즈:120 / 2개   \n",
       "2  4142395   6158159        85  179538                         (not set)   \n",
       "3  4144914   7935714        12  554336      색상:블랙|사이즈:160cm(12~13세) / 1개   \n",
       "\n",
       "  PD_BRA_NM PD_BUY_AM PD_BUY_CT  \n",
       "0   [바비브라운]    39,000         1  \n",
       "1       데상트    39,000         2  \n",
       "2     [아베다]    39,000         1  \n",
       "3   아디다스 키즈    39,000         1  "
      ]
     },
     "execution_count": 25,
     "metadata": {},
     "output_type": "execute_result"
    }
   ],
   "source": [
    "product.head(4)"
   ]
  },
  {
   "cell_type": "code",
   "execution_count": 64,
   "metadata": {},
   "outputs": [],
   "source": [
    "product_essential_vari = product.loc[:,['CLNT_ID', 'SESS_ID', 'PD_BUY_AM', 'PD_BUY_CT']]"
   ]
  },
  {
   "cell_type": "code",
   "execution_count": 65,
   "metadata": {},
   "outputs": [],
   "source": [
    "merging = pd.merge(holidays_essential_vari, product_essential_vari, on=['CLNT_ID', 'SESS_ID'], how='left')"
   ]
  },
  {
   "cell_type": "code",
   "execution_count": 124,
   "metadata": {},
   "outputs": [
    {
     "data": {
      "text/html": [
       "<div>\n",
       "<style scoped>\n",
       "    .dataframe tbody tr th:only-of-type {\n",
       "        vertical-align: middle;\n",
       "    }\n",
       "\n",
       "    .dataframe tbody tr th {\n",
       "        vertical-align: top;\n",
       "    }\n",
       "\n",
       "    .dataframe thead th {\n",
       "        text-align: right;\n",
       "    }\n",
       "</style>\n",
       "<table border=\"1\" class=\"dataframe\">\n",
       "  <thead>\n",
       "    <tr style=\"text-align: right;\">\n",
       "      <th></th>\n",
       "      <th>CLNT_ID</th>\n",
       "      <th>SESS_ID</th>\n",
       "      <th>datetime</th>\n",
       "      <th>PD_BUY_AM</th>\n",
       "      <th>PD_BUY_CT</th>\n",
       "    </tr>\n",
       "  </thead>\n",
       "  <tbody>\n",
       "    <tr>\n",
       "      <th>0</th>\n",
       "      <td>5873599</td>\n",
       "      <td>8641867</td>\n",
       "      <td>2018-05-09</td>\n",
       "      <td>20,000</td>\n",
       "      <td>1</td>\n",
       "    </tr>\n",
       "    <tr>\n",
       "      <th>1</th>\n",
       "      <td>5873599</td>\n",
       "      <td>8641867</td>\n",
       "      <td>2018-05-09</td>\n",
       "      <td>20,000</td>\n",
       "      <td>1</td>\n",
       "    </tr>\n",
       "    <tr>\n",
       "      <th>2</th>\n",
       "      <td>5873599</td>\n",
       "      <td>8641867</td>\n",
       "      <td>2018-05-09</td>\n",
       "      <td>20,000</td>\n",
       "      <td>1</td>\n",
       "    </tr>\n",
       "    <tr>\n",
       "      <th>3</th>\n",
       "      <td>5873599</td>\n",
       "      <td>6616320</td>\n",
       "      <td>2018-06-11</td>\n",
       "      <td>89,000</td>\n",
       "      <td>1</td>\n",
       "    </tr>\n",
       "    <tr>\n",
       "      <th>4</th>\n",
       "      <td>5873599</td>\n",
       "      <td>5886172</td>\n",
       "      <td>2018-06-24</td>\n",
       "      <td>34,000</td>\n",
       "      <td>1</td>\n",
       "    </tr>\n",
       "  </tbody>\n",
       "</table>\n",
       "</div>"
      ],
      "text/plain": [
       "   CLNT_ID  SESS_ID   datetime PD_BUY_AM PD_BUY_CT\n",
       "0  5873599  8641867 2018-05-09    20,000         1\n",
       "1  5873599  8641867 2018-05-09    20,000         1\n",
       "2  5873599  8641867 2018-05-09    20,000         1\n",
       "3  5873599  6616320 2018-06-11    89,000         1\n",
       "4  5873599  5886172 2018-06-24    34,000         1"
      ]
     },
     "execution_count": 124,
     "metadata": {},
     "output_type": "execute_result"
    }
   ],
   "source": [
    "merging.head(5)"
   ]
  },
  {
   "cell_type": "code",
   "execution_count": 123,
   "metadata": {},
   "outputs": [
    {
     "data": {
      "text/plain": [
       "5024906"
      ]
     },
     "execution_count": 123,
     "metadata": {},
     "output_type": "execute_result"
    }
   ],
   "source": [
    "len(merging)"
   ]
  },
  {
   "cell_type": "code",
   "execution_count": 85,
   "metadata": {
    "scrolled": true
   },
   "outputs": [
    {
     "name": "stderr",
     "output_type": "stream",
     "text": [
      "C:\\Users\\anaconda\\Anaconda3\\lib\\site-packages\\ipykernel_launcher.py:1: DeprecationWarning: \n",
      ".ix is deprecated. Please use\n",
      ".loc for label based indexing or\n",
      ".iloc for positional indexing\n",
      "\n",
      "See the documentation here:\n",
      "http://pandas.pydata.org/pandas-docs/stable/indexing.html#ix-indexer-is-deprecated\n",
      "  \"\"\"Entry point for launching an IPython kernel.\n",
      "C:\\Users\\anaconda\\Anaconda3\\lib\\site-packages\\ipykernel_launcher.py:2: DeprecationWarning: \n",
      ".ix is deprecated. Please use\n",
      ".loc for label based indexing or\n",
      ".iloc for positional indexing\n",
      "\n",
      "See the documentation here:\n",
      "http://pandas.pydata.org/pandas-docs/stable/indexing.html#ix-indexer-is-deprecated\n",
      "  \n",
      "C:\\Users\\anaconda\\Anaconda3\\lib\\site-packages\\ipykernel_launcher.py:3: DeprecationWarning: \n",
      ".ix is deprecated. Please use\n",
      ".loc for label based indexing or\n",
      ".iloc for positional indexing\n",
      "\n",
      "See the documentation here:\n",
      "http://pandas.pydata.org/pandas-docs/stable/indexing.html#ix-indexer-is-deprecated\n",
      "  This is separate from the ipykernel package so we can avoid doing imports until\n",
      "C:\\Users\\anaconda\\Anaconda3\\lib\\site-packages\\ipykernel_launcher.py:4: DeprecationWarning: \n",
      ".ix is deprecated. Please use\n",
      ".loc for label based indexing or\n",
      ".iloc for positional indexing\n",
      "\n",
      "See the documentation here:\n",
      "http://pandas.pydata.org/pandas-docs/stable/indexing.html#ix-indexer-is-deprecated\n",
      "  after removing the cwd from sys.path.\n",
      "C:\\Users\\anaconda\\Anaconda3\\lib\\site-packages\\ipykernel_launcher.py:5: DeprecationWarning: \n",
      ".ix is deprecated. Please use\n",
      ".loc for label based indexing or\n",
      ".iloc for positional indexing\n",
      "\n",
      "See the documentation here:\n",
      "http://pandas.pydata.org/pandas-docs/stable/indexing.html#ix-indexer-is-deprecated\n",
      "  \"\"\"\n",
      "C:\\Users\\anaconda\\Anaconda3\\lib\\site-packages\\ipykernel_launcher.py:6: DeprecationWarning: \n",
      ".ix is deprecated. Please use\n",
      ".loc for label based indexing or\n",
      ".iloc for positional indexing\n",
      "\n",
      "See the documentation here:\n",
      "http://pandas.pydata.org/pandas-docs/stable/indexing.html#ix-indexer-is-deprecated\n",
      "  \n",
      "C:\\Users\\anaconda\\Anaconda3\\lib\\site-packages\\ipykernel_launcher.py:7: DeprecationWarning: \n",
      ".ix is deprecated. Please use\n",
      ".loc for label based indexing or\n",
      ".iloc for positional indexing\n",
      "\n",
      "See the documentation here:\n",
      "http://pandas.pydata.org/pandas-docs/stable/indexing.html#ix-indexer-is-deprecated\n",
      "  import sys\n",
      "C:\\Users\\anaconda\\Anaconda3\\lib\\site-packages\\ipykernel_launcher.py:8: DeprecationWarning: \n",
      ".ix is deprecated. Please use\n",
      ".loc for label based indexing or\n",
      ".iloc for positional indexing\n",
      "\n",
      "See the documentation here:\n",
      "http://pandas.pydata.org/pandas-docs/stable/indexing.html#ix-indexer-is-deprecated\n",
      "  \n"
     ]
    }
   ],
   "source": [
    "day_that_day = merging.ix[merging.loc[:,'datetime'].isin(day_that_day)]\n",
    "day_minus1 = merging.ix[merging.loc[:,'datetime'].isin(day_minus1)]\n",
    "day_minus2 = merging.ix[merging.loc[:,'datetime'].isin(day_minus2)]\n",
    "day_minus3 = merging.ix[merging.loc[:,'datetime'].isin(day_minus3)]\n",
    "day_minus4 = merging.ix[merging.loc[:,'datetime'].isin(day_minus4)]\n",
    "day_minus5 = merging.ix[merging.loc[:,'datetime'].isin(day_minus5)]\n",
    "day_minus6 = merging.ix[merging.loc[:,'datetime'].isin(day_minus6)]\n",
    "day_minus7 = merging.ix[merging.loc[:,'datetime'].isin(day_minus7)]"
   ]
  },
  {
   "cell_type": "code",
   "execution_count": 114,
   "metadata": {},
   "outputs": [
    {
     "name": "stdout",
     "output_type": "stream",
     "text": [
      "CLNT_ID      1447120\n",
      "SESS_ID      1447120\n",
      "datetime     1447120\n",
      "PD_BUY_AM    1447120\n",
      "PD_BUY_CT    1447120\n",
      "dtype: int64\n",
      "\n",
      "425715\n"
     ]
    }
   ],
   "source": [
    "print(day_that_day.count())  #구매: 1447120건\n",
    "print()\n",
    "print(len(day_that_day.loc[:,'CLNT_ID'].unique())) #425715명의 개별 사용자"
   ]
  },
  {
   "cell_type": "code",
   "execution_count": 116,
   "metadata": {},
   "outputs": [
    {
     "name": "stdout",
     "output_type": "stream",
     "text": [
      "CLNT_ID      1308817\n",
      "SESS_ID      1308817\n",
      "datetime     1308817\n",
      "PD_BUY_AM    1308817\n",
      "PD_BUY_CT    1308817\n",
      "dtype: int64\n",
      "\n",
      "407180\n"
     ]
    }
   ],
   "source": [
    "print(day_minus1.count()) #구매: 1308817건\n",
    "print()\n",
    "print(len(day_minus1.loc[:,'CLNT_ID'].unique())) # 407180명의 개별 사용자"
   ]
  },
  {
   "cell_type": "code",
   "execution_count": 117,
   "metadata": {},
   "outputs": [
    {
     "name": "stdout",
     "output_type": "stream",
     "text": [
      "CLNT_ID      1436076\n",
      "SESS_ID      1436076\n",
      "datetime     1436076\n",
      "PD_BUY_AM    1436076\n",
      "PD_BUY_CT    1436076\n",
      "dtype: int64\n",
      "\n",
      "439858\n"
     ]
    }
   ],
   "source": [
    "print(day_minus2.count()) #구매: 1436076건\n",
    "print()\n",
    "print(len(day_minus2.loc[:,'CLNT_ID'].unique())) # 439858명의 개별 사용자"
   ]
  },
  {
   "cell_type": "code",
   "execution_count": 118,
   "metadata": {},
   "outputs": [
    {
     "name": "stdout",
     "output_type": "stream",
     "text": [
      "CLNT_ID      1563313\n",
      "SESS_ID      1563313\n",
      "datetime     1563313\n",
      "PD_BUY_AM    1563313\n",
      "PD_BUY_CT    1563313\n",
      "dtype: int64\n",
      "\n",
      "469269\n"
     ]
    }
   ],
   "source": [
    "print(day_minus3.count()) #구매: 1563313건\n",
    "print()\n",
    "print(len(day_minus3.loc[:,'CLNT_ID'].unique())) # 469269명의 개별 사용자"
   ]
  },
  {
   "cell_type": "code",
   "execution_count": 119,
   "metadata": {},
   "outputs": [
    {
     "name": "stdout",
     "output_type": "stream",
     "text": [
      "CLNT_ID      1614446\n",
      "SESS_ID      1614446\n",
      "datetime     1614446\n",
      "PD_BUY_AM    1614446\n",
      "PD_BUY_CT    1614446\n",
      "dtype: int64\n",
      "\n",
      "479673\n"
     ]
    }
   ],
   "source": [
    "print(day_minus4.count()) #구매: 161446건\n",
    "print()\n",
    "print(len(day_minus4.loc[:,'CLNT_ID'].unique())) # 479673명의 개별 사용자"
   ]
  },
  {
   "cell_type": "code",
   "execution_count": 120,
   "metadata": {},
   "outputs": [
    {
     "name": "stdout",
     "output_type": "stream",
     "text": [
      "CLNT_ID      1746188\n",
      "SESS_ID      1746188\n",
      "datetime     1746188\n",
      "PD_BUY_AM    1746188\n",
      "PD_BUY_CT    1746188\n",
      "dtype: int64\n",
      "\n",
      "503364\n"
     ]
    }
   ],
   "source": [
    "print(day_minus5.count()) #구매: 1746188건\n",
    "print()\n",
    "print(len(day_minus5.loc[:,'CLNT_ID'].unique())) # 503364명의 개별 사용자"
   ]
  },
  {
   "cell_type": "code",
   "execution_count": 121,
   "metadata": {},
   "outputs": [
    {
     "name": "stdout",
     "output_type": "stream",
     "text": [
      "CLNT_ID      1714808\n",
      "SESS_ID      1714808\n",
      "datetime     1714808\n",
      "PD_BUY_AM    1714808\n",
      "PD_BUY_CT    1714808\n",
      "dtype: int64\n",
      "\n",
      "495438\n"
     ]
    }
   ],
   "source": [
    "print(day_minus6.count()) #구매: 1714808건\n",
    "print()\n",
    "print(len(day_minus6.loc[:,'CLNT_ID'].unique())) # 495483명의 개별 사용자"
   ]
  },
  {
   "cell_type": "code",
   "execution_count": 122,
   "metadata": {},
   "outputs": [
    {
     "name": "stdout",
     "output_type": "stream",
     "text": [
      "CLNT_ID      1427064\n",
      "SESS_ID      1427064\n",
      "datetime     1427064\n",
      "PD_BUY_AM    1427064\n",
      "PD_BUY_CT    1427064\n",
      "dtype: int64\n",
      "\n",
      "424414\n"
     ]
    }
   ],
   "source": [
    "print(day_minus7.count()) #구매: 1427064건\n",
    "print()\n",
    "print(len(day_minus7.loc[:,'CLNT_ID'].unique())) # 424414명의 개별 사용자"
   ]
  }
 ],
 "metadata": {
  "kernelspec": {
   "display_name": "godsw",
   "language": "python",
   "name": "godsw"
  },
  "language_info": {
   "codemirror_mode": {
    "name": "ipython",
    "version": 3
   },
   "file_extension": ".py",
   "mimetype": "text/x-python",
   "name": "python",
   "nbconvert_exporter": "python",
   "pygments_lexer": "ipython3",
   "version": "3.6.6"
  }
 },
 "nbformat": 4,
 "nbformat_minor": 2
}
