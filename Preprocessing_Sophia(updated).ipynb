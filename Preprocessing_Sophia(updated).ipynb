{
 "cells": [
  {
   "cell_type": "code",
   "execution_count": 1,
   "metadata": {},
   "outputs": [],
   "source": [
    "import pandas as pd\n",
    "import os\n",
    "import matplotlib.pyplot as plt\n",
    "import re\n",
    "import numpy as np\n",
    "from datetime import datetime\n",
    "import time\n",
    "import seaborn"
   ]
  },
  {
   "cell_type": "code",
   "execution_count": 2,
   "metadata": {},
   "outputs": [
    {
     "name": "stderr",
     "output_type": "stream",
     "text": [
      "C:\\Anaconda3\\lib\\site-packages\\IPython\\core\\interactiveshell.py:2785: DtypeWarning: Columns (7) have mixed types. Specify dtype option on import or set low_memory=False.\n",
      "  interactivity=interactivity, compiler=compiler, result=result)\n"
     ]
    }
   ],
   "source": [
    "os.chdir(r'C:\\Users\\renoi\\GH_DynamicData')\n",
    "\n",
    "product = pd.read_csv('pruduct.csv', encoding='utf-8')\n",
    "session = pd.read_csv('Session.csv', encoding='utf-8')\n",
    "search1 = pd.read_csv('Search1.csv', encoding='utf-8')\n",
    "search2 = pd.read_csv('Search2.csv', encoding='utf-8')\n",
    "custom =  pd.read_csv('custom.csv', encoding='utf-8')\n",
    "master =  pd.read_csv('Master.csv', encoding='utf-8')"
   ]
  },
  {
   "cell_type": "code",
   "execution_count": 3,
   "metadata": {},
   "outputs": [
    {
     "name": "stderr",
     "output_type": "stream",
     "text": [
      "C:\\Anaconda3\\lib\\site-packages\\ipykernel_launcher.py:2: FutureWarning: Possible nested set at position 1\n",
      "  \n"
     ]
    }
   ],
   "source": [
    "# 브랜드 변수에서 특수문자 제거\n",
    "product['PD_BRA_NM'] = list(map(lambda x:re.sub(\"[[,\\](,)\\s]\", \"\", x), product['PD_BRA_NM']))"
   ]
  },
  {
   "cell_type": "code",
   "execution_count": 4,
   "metadata": {},
   "outputs": [],
   "source": [
    "# 구매가격 변수를 str -> int 변환.\n",
    "product['PD_BUY_AM'] = list(map(lambda x:x.replace(\",\",\"\"),product['PD_BUY_AM']))\n",
    "product['PD_BUY_AM'] = product['PD_BUY_AM'].astype(int)\n",
    "\n",
    "# 구매개수 변수를 str&int -> int로 변환.\n",
    "product['PD_BUY_CT'] = product['PD_BUY_CT'].astype(str)\n",
    "product['PD_BUY_CT'] = list(map(lambda x:x.replace(\",\",\"\"),product['PD_BUY_CT']))\n",
    "product['PD_BUY_CT'] = product['PD_BUY_CT'].astype(int)"
   ]
  },
  {
   "cell_type": "code",
   "execution_count": 5,
   "metadata": {},
   "outputs": [],
   "source": [
    "# product를 CLNT_ID 순으로 정렬\n",
    "product = product.sort_values(by=['CLNT_ID'], axis=0)"
   ]
  },
  {
   "cell_type": "code",
   "execution_count": 9,
   "metadata": {},
   "outputs": [],
   "source": [
    "## product에 새로운 열 \"TOT_AM\" 생성 (PD_BUY_AM는 제품 하나 당 개수이므로, 이를 구매한 제품의 갯수와 곱한 \"총 지출 금액\"이 \"TOT_AM\"임)\n",
    "product[\"TOT_AM\"] = product[\"PD_BUY_AM\"] * product[\"PD_BUY_CT\"]"
   ]
  },
  {
   "cell_type": "code",
   "execution_count": 8,
   "metadata": {},
   "outputs": [],
   "source": [
    "# CLNT_ID와 SESS_ID에 대해 오름차순 정렬\n",
    "session = session.sort_values(by=['CLNT_ID', 'SESS_ID'], axis=0)\n",
    "product = product.sort_values(by=['CLNT_ID', 'SESS_ID'], axis=0)"
   ]
  },
  {
   "cell_type": "code",
   "execution_count": 10,
   "metadata": {},
   "outputs": [],
   "source": [
    "# session을 기준으로, session과 product를 합침\n",
    "raw = pd.merge(session, product, how='left', on = ['CLNT_ID', 'SESS_ID'])"
   ]
  },
  {
   "cell_type": "code",
   "execution_count": 11,
   "metadata": {},
   "outputs": [],
   "source": [
    "# tot_list: CLNT_ID와 SESS_ID가 모두 같은 행들을 \"TOT_AM\"에 대해 합계를 구한 것(즉, 한 고객이 한 세션에서 구매한 금액의 총액임)\n",
    "tot_list = product.groupby(['CLNT_ID', 'SESS_ID'])['TOT_AM'].agg('sum').tolist()"
   ]
  },
  {
   "cell_type": "code",
   "execution_count": 12,
   "metadata": {},
   "outputs": [],
   "source": [
    "# session에 \"BUY_TOT_AM\"라는 새로운 열 생성 (한 고객이 한 세션에서 구매한 금액의 총액)\n",
    "session[\"BUY_TOT_AM\"] = tot_list"
   ]
  },
  {
   "cell_type": "code",
   "execution_count": 13,
   "metadata": {},
   "outputs": [],
   "source": [
    "session.sort_values(by=['CLNT_ID', 'SESS_ID'], ascending=[True, False], inplace=True)"
   ]
  },
  {
   "cell_type": "code",
   "execution_count": 14,
   "metadata": {
    "scrolled": true
   },
   "outputs": [],
   "source": [
    "session['SESS_DT'] = session['SESS_DT'].astype('str')\n",
    "session['SESS_DT'] = list(map(lambda x:datetime.strptime(x, '%Y%m%d'), session['SESS_DT']))\n",
    "session['Timestamp'] = list(map(lambda x:datetime.timestamp(x), session['SESS_DT']))"
   ]
  },
  {
   "cell_type": "code",
   "execution_count": 15,
   "metadata": {},
   "outputs": [],
   "source": [
    "# session에 \"TimeDiff\"라는 새로운 열 생성 (구매한 세션 간의 시간 간격)\n",
    "session['TimeDiff'] = session.groupby(['CLNT_ID'])['SESS_DT'].diff()"
   ]
  },
  {
   "cell_type": "code",
   "execution_count": 16,
   "metadata": {},
   "outputs": [],
   "source": [
    "# TimeDiff(구매한 세션 간의 시간 간격)을 \"day(일)\"의 단위로 변경\n",
    "session['TimeDiff'] = session['TimeDiff'].astype('timedelta64[D]')"
   ]
  },
  {
   "cell_type": "code",
   "execution_count": 17,
   "metadata": {},
   "outputs": [
    {
     "data": {
      "text/plain": [
       "<matplotlib.axes._subplots.AxesSubplot at 0x1180e14fb00>"
      ]
     },
     "execution_count": 17,
     "metadata": {},
     "output_type": "execute_result"
    },
    {
     "data": {
      "image/png": "[encoded data removed]",
      "text/plain": [
       "<Figure size 432x288 with 1 Axes>"
      ]
     },
     "metadata": {
      "needs_background": "light"
     },
     "output_type": "display_data"
    }
   ],
   "source": [
    "# TimeDiff (구매한 세션 간의 간격 - 일(day) 단위)\n",
    "session['TimeDiff'].hist(bins=30)"
   ]
  },
  {
   "cell_type": "code",
   "execution_count": 18,
   "metadata": {},
   "outputs": [
    {
     "data": {
      "text/plain": [
       "count    1.790170e+06\n",
       "mean     1.563015e+01\n",
       "std      2.360767e+01\n",
       "min      0.000000e+00\n",
       "25%      2.000000e+00\n",
       "50%      6.000000e+00\n",
       "75%      1.900000e+01\n",
       "max      1.820000e+02\n",
       "Name: TimeDiff, dtype: float64"
      ]
     },
     "execution_count": 18,
     "metadata": {},
     "output_type": "execute_result"
    }
   ],
   "source": [
    "session['TimeDiff'].describe()"
   ]
  },
  {
   "cell_type": "code",
   "execution_count": 19,
   "metadata": {},
   "outputs": [
    {
     "data": {
      "text/plain": [
       "count    2.712907e+06\n",
       "mean     1.001855e+05\n",
       "std      2.372877e+05\n",
       "min      1.000000e+01\n",
       "25%      2.840000e+04\n",
       "50%      5.280000e+04\n",
       "75%      1.036000e+05\n",
       "max      6.220000e+07\n",
       "Name: BUY_TOT_AM, dtype: float64"
      ]
     },
     "execution_count": 19,
     "metadata": {},
     "output_type": "execute_result"
    }
   ],
   "source": [
    "# BUY_TOT_AM (한 고객의 한 세션에서의 총 구매 금액)\n",
    "session['BUY_TOT_AM'].describe()"
   ]
  },
  {
   "cell_type": "code",
   "execution_count": 20,
   "metadata": {},
   "outputs": [
    {
     "data": {
      "text/plain": [
       "(array([6.7654e+05, 3.5100e+02, 5.1000e+01, 1.1000e+01, 3.0000e+00,\n",
       "        3.0000e+00, 0.0000e+00, 0.0000e+00, 0.0000e+00, 1.0000e+00]),\n",
       " array([  103610.,  6313249., 12522888., 18732527., 24942166., 31151805.,\n",
       "        37361444., 43571083., 49780722., 55990361., 62200000.]),\n",
       " <a list of 10 Patch objects>)"
      ]
     },
     "execution_count": 20,
     "metadata": {},
     "output_type": "execute_result"
    },
    {
     "data": {
      "image/png": "[encoded data removed]",
      "text/plain": [
       "<Figure size 432x288 with 4 Axes>"
      ]
     },
     "metadata": {
      "needs_background": "light"
     },
     "output_type": "display_data"
    }
   ],
   "source": [
    "# 구매금액(BUY_TOT_AM)의 분포\n",
    "\n",
    "plt.subplot(221) \n",
    "plt.hist(session[session['BUY_TOT_AM']<np.percentile(session['BUY_TOT_AM'], 25)]['BUY_TOT_AM'])\n",
    "\n",
    "plt.subplot(222)\n",
    "plt.hist(session[session['BUY_TOT_AM']<np.percentile(session['BUY_TOT_AM'], 50)]['BUY_TOT_AM'])\n",
    "\n",
    "plt.subplot(223)\n",
    "plt.hist(session[session['BUY_TOT_AM']<np.percentile(session['BUY_TOT_AM'], 75)]['BUY_TOT_AM'])\n",
    "\n",
    "plt.subplot(224)\n",
    "plt.hist(session[session['BUY_TOT_AM']>np.percentile(session['BUY_TOT_AM'], 75)]['BUY_TOT_AM'])"
   ]
  },
  {
   "cell_type": "code",
   "execution_count": 21,
   "metadata": {},
   "outputs": [
    {
     "data": {
      "text/plain": [
       "(array([3.01938e+05, 5.13830e+04, 2.14900e+04, 1.24470e+04, 7.21600e+03,\n",
       "        4.64700e+03, 2.67600e+03, 1.56400e+03, 8.02000e+02, 2.39000e+02]),\n",
       " array([  0. ,  18.2,  36.4,  54.6,  72.8,  91. , 109.2, 127.4, 145.6,\n",
       "        163.8, 182. ]),\n",
       " <a list of 10 Patch objects>)"
      ]
     },
     "execution_count": 21,
     "metadata": {},
     "output_type": "execute_result"
    },
    {
     "data": {
      "image/png": "[encoded data removed]",
      "text/plain": [
       "<Figure size 432x288 with 4 Axes>"
      ]
     },
     "metadata": {
      "needs_background": "light"
     },
     "output_type": "display_data"
    }
   ],
   "source": [
    "## BUY_TOT_AM(구매금액)의 구간 별로 나눴을 때, TimeDIff(구매 시간 간격)의 분포\n",
    "\n",
    "plt.subplot(221) \n",
    "plt.hist(session[session['BUY_TOT_AM']<np.percentile(session['BUY_TOT_AM'], 25)]['TimeDiff'].dropna())\n",
    "\n",
    "plt.subplot(222)\n",
    "plt.hist(session[session['BUY_TOT_AM']<np.percentile(session['BUY_TOT_AM'], 50)]['TimeDiff'].dropna())\n",
    "\n",
    "plt.subplot(223)\n",
    "plt.hist(session[session['BUY_TOT_AM']<np.percentile(session['BUY_TOT_AM'], 75)]['TimeDiff'].dropna())\n",
    "\n",
    "plt.subplot(224)\n",
    "plt.hist(session[session['BUY_TOT_AM']>np.percentile(session['BUY_TOT_AM'], 75)]['TimeDiff'].dropna())"
   ]
  },
  {
   "cell_type": "code",
   "execution_count": 17,
   "metadata": {},
   "outputs": [
    {
     "data": {
      "text/plain": [
       "{'whiskers': [<matplotlib.lines.Line2D at 0x26703ac2b70>,\n",
       "  <matplotlib.lines.Line2D at 0x26703ac2198>],\n",
       " 'caps': [<matplotlib.lines.Line2D at 0x26703b094a8>,\n",
       "  <matplotlib.lines.Line2D at 0x26703b09978>],\n",
       " 'boxes': [<matplotlib.lines.Line2D at 0x26703ac2ef0>],\n",
       " 'medians': [<matplotlib.lines.Line2D at 0x26703b09cc0>],\n",
       " 'fliers': [<matplotlib.lines.Line2D at 0x26703e91588>],\n",
       " 'means': []}"
      ]
     },
     "execution_count": 17,
     "metadata": {},
     "output_type": "execute_result"
    },
    {
     "data": {
      "image/png": "[encoded data removed]",
      "text/plain": [
       "<Figure size 432x288 with 1 Axes>"
      ]
     },
     "metadata": {
      "needs_background": "light"
     },
     "output_type": "display_data"
    }
   ],
   "source": [
    "plt.boxplot(session['BUY_TOT_AM'])  # 이상치 존재"
   ]
  },
  {
   "cell_type": "code",
   "execution_count": 114,
   "metadata": {},
   "outputs": [],
   "source": [
    "## 이상치 기준은 BUY_TOT_AM(한 세션의 총 구매금액)의 상위 3%로 설정\n",
    "# 이유: 리서치 결과, 이커머스의 1회 평균 구매금액은 7.2만원(PC), 6.0만원(모바일)인데, 상위 3%를 제외했을 때 BUY_TOT_AM의 평균치가 7.2만원에 가장 가까워짐\n",
    "# 이유2: 상위 3%를 제외했을 때, 최댓값은 397,940원. 이는 상식 선에서 충분히 용인 가능한 금액이다.\n",
    "session2 = session[session['BUY_TOT_AM']<np.percentile(session['BUY_TOT_AM'], 97)]"
   ]
  },
  {
   "cell_type": "code",
   "execution_count": 115,
   "metadata": {},
   "outputs": [
    {
     "data": {
      "text/plain": [
       "{'whiskers': [<matplotlib.lines.Line2D at 0x11858a66a58>,\n",
       "  <matplotlib.lines.Line2D at 0x11858abdb70>],\n",
       " 'caps': [<matplotlib.lines.Line2D at 0x11858abdfd0>,\n",
       "  <matplotlib.lines.Line2D at 0x118598e6470>],\n",
       " 'boxes': [<matplotlib.lines.Line2D at 0x11858abd160>],\n",
       " 'medians': [<matplotlib.lines.Line2D at 0x118598e68d0>],\n",
       " 'fliers': [<matplotlib.lines.Line2D at 0x118598e6d30>],\n",
       " 'means': []}"
      ]
     },
     "execution_count": 115,
     "metadata": {},
     "output_type": "execute_result"
    },
    {
     "data": {
      "image/png": "[encoded data removed]",
      "text/plain": [
       "<Figure size 432x288 with 1 Axes>"
      ]
     },
     "metadata": {
      "needs_background": "light"
     },
     "output_type": "display_data"
    }
   ],
   "source": [
    "plt.boxplot(session2['BUY_TOT_AM'])"
   ]
  },
  {
   "cell_type": "code",
   "execution_count": 116,
   "metadata": {},
   "outputs": [
    {
     "data": {
      "text/plain": [
       "397940"
      ]
     },
     "execution_count": 116,
     "metadata": {},
     "output_type": "execute_result"
    }
   ],
   "source": [
    "max(session2['BUY_TOT_AM'])"
   ]
  },
  {
   "cell_type": "code",
   "execution_count": 117,
   "metadata": {},
   "outputs": [
    {
     "data": {
      "text/plain": [
       "74515.71494303468"
      ]
     },
     "execution_count": 117,
     "metadata": {},
     "output_type": "execute_result"
    }
   ],
   "source": [
    "np.mean(session2['BUY_TOT_AM'])"
   ]
  },
  {
   "cell_type": "code",
   "execution_count": 19,
   "metadata": {},
   "outputs": [
    {
     "data": {
      "text/plain": [
       "(array([5.024742e+06, 1.300000e+02, 2.100000e+01, 5.000000e+00,\n",
       "        3.000000e+00, 2.000000e+00, 1.000000e+00, 1.000000e+00,\n",
       "        0.000000e+00, 1.000000e+00]),\n",
       " array([1.0000000e+01, 3.9000090e+06, 7.8000080e+06, 1.1700007e+07,\n",
       "        1.5600006e+07, 1.9500005e+07, 2.3400004e+07, 2.7300003e+07,\n",
       "        3.1200002e+07, 3.5100001e+07, 3.9000000e+07]),\n",
       " <a list of 10 Patch objects>)"
      ]
     },
     "execution_count": 19,
     "metadata": {},
     "output_type": "execute_result"
    },
    {
     "data": {
      "image/png": "[encoded data removed]",
      "text/plain": [
       "<Figure size 432x288 with 1 Axes>"
      ]
     },
     "metadata": {
      "needs_background": "light"
     },
     "output_type": "display_data"
    }
   ],
   "source": [
    "## BUY_TOT_AM(구매금액)의 구간 별로 나눴을 때, TimeDIff(구매 시간 간격)의 분포\n",
    "\n",
    "plt.subplot(221) \n",
    "plt.hist(product[product['TOT_AM']<np.percentile(session['TOT_AM'], 25)]['TOT_AM']\n",
    "\n",
    "plt.subplot(222)\n",
    "plt.hist(product[product['TOT_AM']<np.percentile(session['BUY_TOT_AM'], 50)]['TOT_AM']\n",
    "\n",
    "plt.subplot(223)\n",
    "plt.hist(session[session['BUY_TOT_AM']<np.percentile(session['BUY_TOT_AM'], 75)]['TOT_AM']\n",
    "\n",
    "plt.subplot(224)\n",
    "plt.hist(session[session['BUY_TOT_AM']>np.percentile(session['BUY_TOT_AM'], 75)]['TOT_AM']"
   ]
  },
  {
   "cell_type": "code",
   "execution_count": 99,
   "metadata": {},
   "outputs": [],
   "source": [
    "test=session2.groupby('TimeDiff',as_index=False).size().reset_index(name = 'count')"
   ]
  },
  {
   "cell_type": "code",
   "execution_count": 101,
   "metadata": {},
   "outputs": [],
   "source": [
    "## 재구매 간격이 0일인 경우는 제외\n",
    "test = test[test['TimeDiff'] != 0.0 ]"
   ]
  },
  {
   "cell_type": "code",
   "execution_count": 103,
   "metadata": {},
   "outputs": [],
   "source": [
    "def findSplitPoint(test, n) : \n",
    "   \n",
    "    left = list()\n",
    "    right = list()\n",
    "    splitpoint = list()\n",
    "    \n",
    "    leftSum = 0 \n",
    "    # traverse array element \n",
    "    for i in range(0, n) : \n",
    "       \n",
    "        # add current element to left Sum \n",
    "        leftSum += test.iloc[i,1]  \n",
    "        left.append(leftSum)\n",
    "        splitpoint.append(i+1)\n",
    "        # find sum of rest array elements (rightSum) \n",
    "        rightSum = 0 \n",
    "        for j in range(i+1, n) : \n",
    "            rightSum += test.iloc[j,1]\n",
    "        \n",
    "        right.append(rightSum)\n",
    "    # split poindex \n",
    "    return left,right,splitpoint"
   ]
  },
  {
   "cell_type": "code",
   "execution_count": 104,
   "metadata": {},
   "outputs": [],
   "source": [
    "left,right,splitpoint = findSplitPoint(test,182)"
   ]
  },
  {
   "cell_type": "code",
   "execution_count": 105,
   "metadata": {},
   "outputs": [],
   "source": [
    "Decider =pd.DataFrame(np.vstack([splitpoint,left, right]).T,\n",
    "              columns=['splitpoint','leftsum', 'rightsum'])"
   ]
  },
  {
   "cell_type": "code",
   "execution_count": 106,
   "metadata": {},
   "outputs": [
    {
     "data": {
      "text/html": [
       "<div>\n",
       "<style scoped>\n",
       "    .dataframe tbody tr th:only-of-type {\n",
       "        vertical-align: middle;\n",
       "    }\n",
       "\n",
       "    .dataframe tbody tr th {\n",
       "        vertical-align: top;\n",
       "    }\n",
       "\n",
       "    .dataframe thead th {\n",
       "        text-align: right;\n",
       "    }\n",
       "</style>\n",
       "<table border=\"1\" class=\"dataframe\">\n",
       "  <thead>\n",
       "    <tr style=\"text-align: right;\">\n",
       "      <th></th>\n",
       "      <th>splitpoint</th>\n",
       "      <th>leftsum</th>\n",
       "      <th>rightsum</th>\n",
       "    </tr>\n",
       "  </thead>\n",
       "  <tbody>\n",
       "    <tr>\n",
       "      <th>0</th>\n",
       "      <td>1</td>\n",
       "      <td>216081</td>\n",
       "      <td>1318338</td>\n",
       "    </tr>\n",
       "    <tr>\n",
       "      <th>1</th>\n",
       "      <td>2</td>\n",
       "      <td>357064</td>\n",
       "      <td>1177355</td>\n",
       "    </tr>\n",
       "    <tr>\n",
       "      <th>2</th>\n",
       "      <td>3</td>\n",
       "      <td>464934</td>\n",
       "      <td>1069485</td>\n",
       "    </tr>\n",
       "    <tr>\n",
       "      <th>3</th>\n",
       "      <td>4</td>\n",
       "      <td>551712</td>\n",
       "      <td>982707</td>\n",
       "    </tr>\n",
       "    <tr>\n",
       "      <th>4</th>\n",
       "      <td>5</td>\n",
       "      <td>623597</td>\n",
       "      <td>910822</td>\n",
       "    </tr>\n",
       "    <tr>\n",
       "      <th>5</th>\n",
       "      <td>6</td>\n",
       "      <td>688209</td>\n",
       "      <td>846210</td>\n",
       "    </tr>\n",
       "    <tr>\n",
       "      <th>6</th>\n",
       "      <td>7</td>\n",
       "      <td>748343</td>\n",
       "      <td>786076</td>\n",
       "    </tr>\n",
       "    <tr>\n",
       "      <th>7</th>\n",
       "      <td>8</td>\n",
       "      <td>796298</td>\n",
       "      <td>738121</td>\n",
       "    </tr>\n",
       "    <tr>\n",
       "      <th>8</th>\n",
       "      <td>9</td>\n",
       "      <td>837009</td>\n",
       "      <td>697410</td>\n",
       "    </tr>\n",
       "    <tr>\n",
       "      <th>9</th>\n",
       "      <td>10</td>\n",
       "      <td>873974</td>\n",
       "      <td>660445</td>\n",
       "    </tr>\n",
       "    <tr>\n",
       "      <th>10</th>\n",
       "      <td>11</td>\n",
       "      <td>907370</td>\n",
       "      <td>627049</td>\n",
       "    </tr>\n",
       "    <tr>\n",
       "      <th>11</th>\n",
       "      <td>12</td>\n",
       "      <td>938027</td>\n",
       "      <td>596392</td>\n",
       "    </tr>\n",
       "    <tr>\n",
       "      <th>12</th>\n",
       "      <td>13</td>\n",
       "      <td>967941</td>\n",
       "      <td>566478</td>\n",
       "    </tr>\n",
       "    <tr>\n",
       "      <th>13</th>\n",
       "      <td>14</td>\n",
       "      <td>997777</td>\n",
       "      <td>536642</td>\n",
       "    </tr>\n",
       "    <tr>\n",
       "      <th>14</th>\n",
       "      <td>15</td>\n",
       "      <td>1023148</td>\n",
       "      <td>511271</td>\n",
       "    </tr>\n",
       "    <tr>\n",
       "      <th>15</th>\n",
       "      <td>16</td>\n",
       "      <td>1045496</td>\n",
       "      <td>488923</td>\n",
       "    </tr>\n",
       "    <tr>\n",
       "      <th>16</th>\n",
       "      <td>17</td>\n",
       "      <td>1066198</td>\n",
       "      <td>468221</td>\n",
       "    </tr>\n",
       "    <tr>\n",
       "      <th>17</th>\n",
       "      <td>18</td>\n",
       "      <td>1085465</td>\n",
       "      <td>448954</td>\n",
       "    </tr>\n",
       "    <tr>\n",
       "      <th>18</th>\n",
       "      <td>19</td>\n",
       "      <td>1103309</td>\n",
       "      <td>431110</td>\n",
       "    </tr>\n",
       "    <tr>\n",
       "      <th>19</th>\n",
       "      <td>20</td>\n",
       "      <td>1121251</td>\n",
       "      <td>413168</td>\n",
       "    </tr>\n",
       "    <tr>\n",
       "      <th>20</th>\n",
       "      <td>21</td>\n",
       "      <td>1139505</td>\n",
       "      <td>394914</td>\n",
       "    </tr>\n",
       "    <tr>\n",
       "      <th>21</th>\n",
       "      <td>22</td>\n",
       "      <td>1155310</td>\n",
       "      <td>379109</td>\n",
       "    </tr>\n",
       "    <tr>\n",
       "      <th>22</th>\n",
       "      <td>23</td>\n",
       "      <td>1169356</td>\n",
       "      <td>365063</td>\n",
       "    </tr>\n",
       "    <tr>\n",
       "      <th>23</th>\n",
       "      <td>24</td>\n",
       "      <td>1182670</td>\n",
       "      <td>351749</td>\n",
       "    </tr>\n",
       "    <tr>\n",
       "      <th>24</th>\n",
       "      <td>25</td>\n",
       "      <td>1195540</td>\n",
       "      <td>338879</td>\n",
       "    </tr>\n",
       "    <tr>\n",
       "      <th>25</th>\n",
       "      <td>26</td>\n",
       "      <td>1207991</td>\n",
       "      <td>326428</td>\n",
       "    </tr>\n",
       "    <tr>\n",
       "      <th>26</th>\n",
       "      <td>27</td>\n",
       "      <td>1220513</td>\n",
       "      <td>313906</td>\n",
       "    </tr>\n",
       "    <tr>\n",
       "      <th>27</th>\n",
       "      <td>28</td>\n",
       "      <td>1234167</td>\n",
       "      <td>300252</td>\n",
       "    </tr>\n",
       "    <tr>\n",
       "      <th>28</th>\n",
       "      <td>29</td>\n",
       "      <td>1246061</td>\n",
       "      <td>288358</td>\n",
       "    </tr>\n",
       "    <tr>\n",
       "      <th>29</th>\n",
       "      <td>30</td>\n",
       "      <td>1256884</td>\n",
       "      <td>277535</td>\n",
       "    </tr>\n",
       "    <tr>\n",
       "      <th>...</th>\n",
       "      <td>...</td>\n",
       "      <td>...</td>\n",
       "      <td>...</td>\n",
       "    </tr>\n",
       "    <tr>\n",
       "      <th>152</th>\n",
       "      <td>153</td>\n",
       "      <td>1532070</td>\n",
       "      <td>2349</td>\n",
       "    </tr>\n",
       "    <tr>\n",
       "      <th>153</th>\n",
       "      <td>154</td>\n",
       "      <td>1532256</td>\n",
       "      <td>2163</td>\n",
       "    </tr>\n",
       "    <tr>\n",
       "      <th>154</th>\n",
       "      <td>155</td>\n",
       "      <td>1532410</td>\n",
       "      <td>2009</td>\n",
       "    </tr>\n",
       "    <tr>\n",
       "      <th>155</th>\n",
       "      <td>156</td>\n",
       "      <td>1532563</td>\n",
       "      <td>1856</td>\n",
       "    </tr>\n",
       "    <tr>\n",
       "      <th>156</th>\n",
       "      <td>157</td>\n",
       "      <td>1532703</td>\n",
       "      <td>1716</td>\n",
       "    </tr>\n",
       "    <tr>\n",
       "      <th>157</th>\n",
       "      <td>158</td>\n",
       "      <td>1532852</td>\n",
       "      <td>1567</td>\n",
       "    </tr>\n",
       "    <tr>\n",
       "      <th>158</th>\n",
       "      <td>159</td>\n",
       "      <td>1532987</td>\n",
       "      <td>1432</td>\n",
       "    </tr>\n",
       "    <tr>\n",
       "      <th>159</th>\n",
       "      <td>160</td>\n",
       "      <td>1533117</td>\n",
       "      <td>1302</td>\n",
       "    </tr>\n",
       "    <tr>\n",
       "      <th>160</th>\n",
       "      <td>161</td>\n",
       "      <td>1533238</td>\n",
       "      <td>1181</td>\n",
       "    </tr>\n",
       "    <tr>\n",
       "      <th>161</th>\n",
       "      <td>162</td>\n",
       "      <td>1533364</td>\n",
       "      <td>1055</td>\n",
       "    </tr>\n",
       "    <tr>\n",
       "      <th>162</th>\n",
       "      <td>163</td>\n",
       "      <td>1533468</td>\n",
       "      <td>951</td>\n",
       "    </tr>\n",
       "    <tr>\n",
       "      <th>163</th>\n",
       "      <td>164</td>\n",
       "      <td>1533566</td>\n",
       "      <td>853</td>\n",
       "    </tr>\n",
       "    <tr>\n",
       "      <th>164</th>\n",
       "      <td>165</td>\n",
       "      <td>1533661</td>\n",
       "      <td>758</td>\n",
       "    </tr>\n",
       "    <tr>\n",
       "      <th>165</th>\n",
       "      <td>166</td>\n",
       "      <td>1533733</td>\n",
       "      <td>686</td>\n",
       "    </tr>\n",
       "    <tr>\n",
       "      <th>166</th>\n",
       "      <td>167</td>\n",
       "      <td>1533816</td>\n",
       "      <td>603</td>\n",
       "    </tr>\n",
       "    <tr>\n",
       "      <th>167</th>\n",
       "      <td>168</td>\n",
       "      <td>1533883</td>\n",
       "      <td>536</td>\n",
       "    </tr>\n",
       "    <tr>\n",
       "      <th>168</th>\n",
       "      <td>169</td>\n",
       "      <td>1533962</td>\n",
       "      <td>457</td>\n",
       "    </tr>\n",
       "    <tr>\n",
       "      <th>169</th>\n",
       "      <td>170</td>\n",
       "      <td>1534025</td>\n",
       "      <td>394</td>\n",
       "    </tr>\n",
       "    <tr>\n",
       "      <th>170</th>\n",
       "      <td>171</td>\n",
       "      <td>1534082</td>\n",
       "      <td>337</td>\n",
       "    </tr>\n",
       "    <tr>\n",
       "      <th>171</th>\n",
       "      <td>172</td>\n",
       "      <td>1534125</td>\n",
       "      <td>294</td>\n",
       "    </tr>\n",
       "    <tr>\n",
       "      <th>172</th>\n",
       "      <td>173</td>\n",
       "      <td>1534171</td>\n",
       "      <td>248</td>\n",
       "    </tr>\n",
       "    <tr>\n",
       "      <th>173</th>\n",
       "      <td>174</td>\n",
       "      <td>1534218</td>\n",
       "      <td>201</td>\n",
       "    </tr>\n",
       "    <tr>\n",
       "      <th>174</th>\n",
       "      <td>175</td>\n",
       "      <td>1534245</td>\n",
       "      <td>174</td>\n",
       "    </tr>\n",
       "    <tr>\n",
       "      <th>175</th>\n",
       "      <td>176</td>\n",
       "      <td>1534276</td>\n",
       "      <td>143</td>\n",
       "    </tr>\n",
       "    <tr>\n",
       "      <th>176</th>\n",
       "      <td>177</td>\n",
       "      <td>1534308</td>\n",
       "      <td>111</td>\n",
       "    </tr>\n",
       "    <tr>\n",
       "      <th>177</th>\n",
       "      <td>178</td>\n",
       "      <td>1534346</td>\n",
       "      <td>73</td>\n",
       "    </tr>\n",
       "    <tr>\n",
       "      <th>178</th>\n",
       "      <td>179</td>\n",
       "      <td>1534374</td>\n",
       "      <td>45</td>\n",
       "    </tr>\n",
       "    <tr>\n",
       "      <th>179</th>\n",
       "      <td>180</td>\n",
       "      <td>1534401</td>\n",
       "      <td>18</td>\n",
       "    </tr>\n",
       "    <tr>\n",
       "      <th>180</th>\n",
       "      <td>181</td>\n",
       "      <td>1534411</td>\n",
       "      <td>8</td>\n",
       "    </tr>\n",
       "    <tr>\n",
       "      <th>181</th>\n",
       "      <td>182</td>\n",
       "      <td>1534419</td>\n",
       "      <td>0</td>\n",
       "    </tr>\n",
       "  </tbody>\n",
       "</table>\n",
       "<p>182 rows × 3 columns</p>\n",
       "</div>"
      ],
      "text/plain": [
       "     splitpoint  leftsum  rightsum\n",
       "0             1   216081   1318338\n",
       "1             2   357064   1177355\n",
       "2             3   464934   1069485\n",
       "3             4   551712    982707\n",
       "4             5   623597    910822\n",
       "5             6   688209    846210\n",
       "6             7   748343    786076\n",
       "7             8   796298    738121\n",
       "8             9   837009    697410\n",
       "9            10   873974    660445\n",
       "10           11   907370    627049\n",
       "11           12   938027    596392\n",
       "12           13   967941    566478\n",
       "13           14   997777    536642\n",
       "14           15  1023148    511271\n",
       "15           16  1045496    488923\n",
       "16           17  1066198    468221\n",
       "17           18  1085465    448954\n",
       "18           19  1103309    431110\n",
       "19           20  1121251    413168\n",
       "20           21  1139505    394914\n",
       "21           22  1155310    379109\n",
       "22           23  1169356    365063\n",
       "23           24  1182670    351749\n",
       "24           25  1195540    338879\n",
       "25           26  1207991    326428\n",
       "26           27  1220513    313906\n",
       "27           28  1234167    300252\n",
       "28           29  1246061    288358\n",
       "29           30  1256884    277535\n",
       "..          ...      ...       ...\n",
       "152         153  1532070      2349\n",
       "153         154  1532256      2163\n",
       "154         155  1532410      2009\n",
       "155         156  1532563      1856\n",
       "156         157  1532703      1716\n",
       "157         158  1532852      1567\n",
       "158         159  1532987      1432\n",
       "159         160  1533117      1302\n",
       "160         161  1533238      1181\n",
       "161         162  1533364      1055\n",
       "162         163  1533468       951\n",
       "163         164  1533566       853\n",
       "164         165  1533661       758\n",
       "165         166  1533733       686\n",
       "166         167  1533816       603\n",
       "167         168  1533883       536\n",
       "168         169  1533962       457\n",
       "169         170  1534025       394\n",
       "170         171  1534082       337\n",
       "171         172  1534125       294\n",
       "172         173  1534171       248\n",
       "173         174  1534218       201\n",
       "174         175  1534245       174\n",
       "175         176  1534276       143\n",
       "176         177  1534308       111\n",
       "177         178  1534346        73\n",
       "178         179  1534374        45\n",
       "179         180  1534401        18\n",
       "180         181  1534411         8\n",
       "181         182  1534419         0\n",
       "\n",
       "[182 rows x 3 columns]"
      ]
     },
     "execution_count": 106,
     "metadata": {},
     "output_type": "execute_result"
    }
   ],
   "source": [
    "## \"6일\"을 기준으로 나눴을 때, label 1과 0에 배정되는 데이터의 갯수가 가장 비슷함\n",
    "## 이는 리서치 결과와도 일맥상통함. 리서치 결과, 온라인쇼핑몰 사용자들은 평균적으로 \"5.08일\"에 한번씩 쇼핑함.\n",
    "Decider"
   ]
  },
  {
   "cell_type": "code",
   "execution_count": 132,
   "metadata": {},
   "outputs": [],
   "source": [
    "# 이상치 데이터\n",
    "session2 = session[session['BUY_TOT_AM']<np.percentile(session['BUY_TOT_AM'], 97)]\n",
    "outlier_id = session[session['BUY_TOT_AM']>=np.percentile(session['BUY_TOT_AM'], 97)][['CLNT_ID', 'SESS_ID']]\n",
    "CLNT_list = list(outlier_id['CLNT_ID'])\n",
    "SESS_list = list(outlier_id['SESS_ID'])"
   ]
  }
 ],
 "metadata": {
  "kernelspec": {
   "display_name": "Python 3",
   "language": "python",
   "name": "python3"
  },
  "language_info": {
   "codemirror_mode": {
    "name": "ipython",
    "version": 3
   },
   "file_extension": ".py",
   "mimetype": "text/x-python",
   "name": "python",
   "nbconvert_exporter": "python",
   "pygments_lexer": "ipython3",
   "version": "3.7.2"
  }
 },
 "nbformat": 4,
 "nbformat_minor": 2
}
