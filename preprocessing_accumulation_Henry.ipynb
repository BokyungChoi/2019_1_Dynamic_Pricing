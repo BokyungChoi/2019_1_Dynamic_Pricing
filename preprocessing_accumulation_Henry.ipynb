{
 "cells": [
  {
   "cell_type": "code",
   "execution_count": 1,
   "metadata": {},
   "outputs": [],
   "source": [
    "import pandas as pd\n",
    "import os\n",
    "import matplotlib.pyplot as plt\n",
    "import re\n",
    "import numpy as np\n",
    "from datetime import datetime\n",
    "import time\n",
    "import seaborn"
   ]
  },
  {
   "cell_type": "code",
   "execution_count": 2,
   "metadata": {},
   "outputs": [
    {
     "name": "stderr",
     "output_type": "stream",
     "text": [
      "C:\\Users\\USER\\Anaconda3\\lib\\site-packages\\IPython\\core\\interactiveshell.py:3020: DtypeWarning: Columns (7) have mixed types. Specify dtype option on import or set low_memory=False.\n",
      "  interactivity=interactivity, compiler=compiler, result=result)\n"
     ]
    }
   ],
   "source": [
    "os.chdir(r'C:\\Users\\USER\\Desktop\\Dynamic pricing')\n",
    "\n",
    "product = pd.read_csv('pruduct.csv', encoding='utf-8')\n",
    "session = pd.read_csv('Session.csv', encoding='utf-8')\n",
    "search1 = pd.read_csv('Search1.csv', encoding='utf-8')\n",
    "search2 = pd.read_csv('Search2.csv', encoding='utf-8')\n",
    "custom =  pd.read_csv('custom.csv', encoding='utf-8')\n",
    "master =  pd.read_csv('Master.csv', encoding='utf-8')"
   ]
  },
  {
   "cell_type": "code",
   "execution_count": 5,
   "metadata": {},
   "outputs": [
    {
     "name": "stderr",
     "output_type": "stream",
     "text": [
      "C:\\Users\\USER\\Anaconda3\\lib\\site-packages\\ipykernel_launcher.py:2: FutureWarning: Possible nested set at position 1\n",
      "  \n"
     ]
    }
   ],
   "source": [
    "# 브랜드 변수에서 특수문자 제거\n",
    "product['PD_BRA_NM'] = list(map(lambda x:re.sub(\"[[,\\](,)\\s]\", \"\", x), product['PD_BRA_NM']))\n",
    "\n",
    "# 구매가격 변수를 str -> int 변환.\n",
    "product['PD_BUY_AM'] = list(map(lambda x:x.replace(\",\",\"\"),product['PD_BUY_AM']))\n",
    "product['PD_BUY_AM'] = product['PD_BUY_AM'].astype(int)\n",
    "\n",
    "# 구매개수 변수를 str&int -> int로 변환.\n",
    "product['PD_BUY_CT'] = product['PD_BUY_CT'].astype(str)\n",
    "product['PD_BUY_CT'] = list(map(lambda x:x.replace(\",\",\"\"),product['PD_BUY_CT']))\n",
    "product['PD_BUY_CT'] = product['PD_BUY_CT'].astype(int)\n",
    "\n",
    "# product를 CLNT_ID 순으로 정렬\n",
    "product = product.sort_values(by=['CLNT_ID'], axis=0)\n",
    "\n",
    "## product에 새로운 열 \"TOT_AM\" 생성 (PD_BUY_AM는 제품 하나 당 개수이므로, 이를 구매한 제품의 갯수와 곱한 \"총 지출 금액\"이 \"TOT_AM\"임)\n",
    "product[\"TOT_AM\"] = product[\"PD_BUY_AM\"] * product[\"PD_BUY_CT\"]"
   ]
  },
  {
   "cell_type": "code",
   "execution_count": 6,
   "metadata": {},
   "outputs": [],
   "source": [
    "session = session.sort_values(by=['CLNT_ID', 'SESS_ID'], axis=0)\n",
    "product = product.sort_values(by=['CLNT_ID', 'SESS_ID'], axis=0)"
   ]
  },
  {
   "cell_type": "code",
   "execution_count": 7,
   "metadata": {},
   "outputs": [],
   "source": [
    "raw = pd.merge(session, product, how='left', on = ['CLNT_ID', 'SESS_ID'])"
   ]
  },
  {
   "cell_type": "code",
   "execution_count": 9,
   "metadata": {},
   "outputs": [],
   "source": [
    "# mean_buy_am: CLNT_ID와 SESS_ID가 모두 같은 행들을 \"TOT_AM\"에 대해 합계를 구한 것\n",
    "tot_buy_am = product.groupby(['CLNT_ID', 'SESS_ID'])['TOT_AM'].agg('sum').tolist()"
   ]
  },
  {
   "cell_type": "code",
   "execution_count": 10,
   "metadata": {},
   "outputs": [],
   "source": [
    "# mean_buy_am: CLNT_ID와 SESS_ID가 모두 같은 행들을 \"TOT_AM\"에 대해 평균를 구한 것\n",
    "mean_buy_am = product.groupby(['CLNT_ID', 'SESS_ID'])['TOT_AM'].agg('mean').tolist()"
   ]
  },
  {
   "cell_type": "code",
   "execution_count": 11,
   "metadata": {},
   "outputs": [],
   "source": [
    "# std_buy_am: CLNT_ID와 SESS_ID가 모두 같은 행들을 \"TOT_AM\"에 대해 표준편차를 구한 것\n",
    "std_buy_am = product.groupby(['CLNT_ID', 'SESS_ID'])['TOT_AM'].agg('std').tolist()"
   ]
  },
  {
   "cell_type": "code",
   "execution_count": 12,
   "metadata": {},
   "outputs": [],
   "source": [
    "# tot_buy_ct: CLNT_ID와 SESS_ID가 모두 같은 행들을 \"PD_BUY_CT\"에 대해 총합를 구한 것\n",
    "tot_buy_ct = product.groupby(['CLNT_ID', 'SESS_ID'])['PD_BUY_CT'].agg('sum').tolist()\n",
    "\n",
    "# mean_buy_ct: CLNT_ID와 SESS_ID가 모두 같은 행들을 \"PD_BUY_CT\"에 대해 평균를 구한 것\n",
    "mean_buy_ct = product.groupby(['CLNT_ID', 'SESS_ID'])['PD_BUY_CT'].agg('mean').tolist()\n",
    "\n",
    "# std_buy_ct: CLNT_ID와 SESS_ID가 모두 같은 행들을 \"PD_BUY_CT\"에 대해 평균를 구한 것\n",
    "std_buy_ct = product.groupby(['CLNT_ID', 'SESS_ID'])['PD_BUY_CT'].agg('std').tolist()"
   ]
  },
  {
   "cell_type": "code",
   "execution_count": 13,
   "metadata": {},
   "outputs": [],
   "source": [
    "# tot_prod_price: CLNT_ID와 SESS_ID가 모두 같은 행들을 \"PD_BUY_AM\"에 대해 총합를 구한 것\n",
    "tot_prod_price = product.groupby(['CLNT_ID', 'SESS_ID'])['PD_BUY_AM'].agg('sum').tolist()\n",
    "\n",
    "# mean_prod_price: CLNT_ID와 SESS_ID가 모두 같은 행들을 \"PD_BUY_AM\"에 대해 평균를 구한 것\n",
    "mean_prod_price = product.groupby(['CLNT_ID', 'SESS_ID'])['PD_BUY_AM'].agg('mean').tolist()\n",
    "\n",
    "# std_prod_price: CLNT_ID와 SESS_ID가 모두 같은 행들을 \"PD_BUY_AM\"에 대해 평균를 구한 것\n",
    "std_prod_price = product.groupby(['CLNT_ID', 'SESS_ID'])['PD_BUY_AM'].agg('std').tolist()"
   ]
  },
  {
   "cell_type": "code",
   "execution_count": 15,
   "metadata": {},
   "outputs": [],
   "source": [
    "session[\"TOT_BUY_AM\"] = tot_buy_am\n",
    "session[\"MEAN_BUY_AM\"] = mean_buy_am\n",
    "session[\"STD_BUY_AM\"] = std_buy_am\n",
    "session[\"TOT_BUY_CT\"] = tot_buy_ct\n",
    "session[\"MEAN_BUY_CT\"] = mean_buy_ct\n",
    "session[\"STD_BUY_CT\"] = std_buy_ct\n",
    "session[\"TOT_PROD_PRICE\"] = tot_prod_price\n",
    "session[\"TOT_PROD_PRICE\"] = mean_prod_price\n",
    "session[\"TOT_PROD_PRICE\"] = std_prod_price"
   ]
  },
  {
   "cell_type": "code",
   "execution_count": 16,
   "metadata": {},
   "outputs": [
    {
     "data": {
      "text/html": [
       "<div>\n",
       "<style scoped>\n",
       "    .dataframe tbody tr th:only-of-type {\n",
       "        vertical-align: middle;\n",
       "    }\n",
       "\n",
       "    .dataframe tbody tr th {\n",
       "        vertical-align: top;\n",
       "    }\n",
       "\n",
       "    .dataframe thead th {\n",
       "        text-align: right;\n",
       "    }\n",
       "</style>\n",
       "<table border=\"1\" class=\"dataframe\">\n",
       "  <thead>\n",
       "    <tr style=\"text-align: right;\">\n",
       "      <th></th>\n",
       "      <th>CLNT_ID</th>\n",
       "      <th>SESS_ID</th>\n",
       "      <th>SESS_SEQ</th>\n",
       "      <th>SESS_DT</th>\n",
       "      <th>TOT_PAG_VIEW_CT</th>\n",
       "      <th>TOT_SESS_HR_V</th>\n",
       "      <th>DVC_CTG_NM</th>\n",
       "      <th>ZON_NM</th>\n",
       "      <th>CITY_NM</th>\n",
       "      <th>BUY_TOT_AM</th>\n",
       "      <th>TOT_BUY_AM</th>\n",
       "      <th>MEAN_BUY_AM</th>\n",
       "      <th>STD_BUY_AM</th>\n",
       "      <th>TOT_BUY_CT</th>\n",
       "      <th>MEAN_BUY_CT</th>\n",
       "      <th>STD_BUY_CT</th>\n",
       "      <th>TOT_PROD_PRICE</th>\n",
       "    </tr>\n",
       "  </thead>\n",
       "  <tbody>\n",
       "    <tr>\n",
       "      <th>172344</th>\n",
       "      <td>8</td>\n",
       "      <td>6964877</td>\n",
       "      <td>7</td>\n",
       "      <td>20180606</td>\n",
       "      <td>38.0</td>\n",
       "      <td>366</td>\n",
       "      <td>mobile</td>\n",
       "      <td>Gyeonggi-do</td>\n",
       "      <td>Gwangmyeong-si</td>\n",
       "      <td>38000</td>\n",
       "      <td>38000</td>\n",
       "      <td>38000.0</td>\n",
       "      <td>NaN</td>\n",
       "      <td>1</td>\n",
       "      <td>1.0</td>\n",
       "      <td>NaN</td>\n",
       "      <td>NaN</td>\n",
       "    </tr>\n",
       "    <tr>\n",
       "      <th>1398652</th>\n",
       "      <td>8</td>\n",
       "      <td>7017688</td>\n",
       "      <td>2</td>\n",
       "      <td>20180605</td>\n",
       "      <td>55.0</td>\n",
       "      <td>468</td>\n",
       "      <td>mobile</td>\n",
       "      <td>Seoul</td>\n",
       "      <td>Seoul</td>\n",
       "      <td>38000</td>\n",
       "      <td>38000</td>\n",
       "      <td>38000.0</td>\n",
       "      <td>NaN</td>\n",
       "      <td>1</td>\n",
       "      <td>1.0</td>\n",
       "      <td>NaN</td>\n",
       "      <td>NaN</td>\n",
       "    </tr>\n",
       "    <tr>\n",
       "      <th>1435369</th>\n",
       "      <td>14</td>\n",
       "      <td>1156991</td>\n",
       "      <td>5</td>\n",
       "      <td>20180911</td>\n",
       "      <td>256.0</td>\n",
       "      <td>7,098</td>\n",
       "      <td>mobile</td>\n",
       "      <td>Gyeonggi-do</td>\n",
       "      <td>Ansan-si</td>\n",
       "      <td>69800</td>\n",
       "      <td>69800</td>\n",
       "      <td>34900.0</td>\n",
       "      <td>7071.067812</td>\n",
       "      <td>2</td>\n",
       "      <td>1.0</td>\n",
       "      <td>0.0</td>\n",
       "      <td>7071.067812</td>\n",
       "    </tr>\n",
       "    <tr>\n",
       "      <th>142972</th>\n",
       "      <td>25</td>\n",
       "      <td>5317297</td>\n",
       "      <td>213</td>\n",
       "      <td>20180703</td>\n",
       "      <td>33.0</td>\n",
       "      <td>865</td>\n",
       "      <td>desktop</td>\n",
       "      <td>Gyeonggi-do</td>\n",
       "      <td>Hwaseong-si</td>\n",
       "      <td>39800</td>\n",
       "      <td>39800</td>\n",
       "      <td>39800.0</td>\n",
       "      <td>NaN</td>\n",
       "      <td>1</td>\n",
       "      <td>1.0</td>\n",
       "      <td>NaN</td>\n",
       "      <td>NaN</td>\n",
       "    </tr>\n",
       "    <tr>\n",
       "      <th>142971</th>\n",
       "      <td>25</td>\n",
       "      <td>6059256</td>\n",
       "      <td>204</td>\n",
       "      <td>20180621</td>\n",
       "      <td>7.0</td>\n",
       "      <td>99</td>\n",
       "      <td>desktop</td>\n",
       "      <td>Gyeonggi-do</td>\n",
       "      <td>Osan-si</td>\n",
       "      <td>47000</td>\n",
       "      <td>47000</td>\n",
       "      <td>47000.0</td>\n",
       "      <td>NaN</td>\n",
       "      <td>1</td>\n",
       "      <td>1.0</td>\n",
       "      <td>NaN</td>\n",
       "      <td>NaN</td>\n",
       "    </tr>\n",
       "  </tbody>\n",
       "</table>\n",
       "</div>"
      ],
      "text/plain": [
       "         CLNT_ID  SESS_ID  SESS_SEQ   SESS_DT  TOT_PAG_VIEW_CT TOT_SESS_HR_V  \\\n",
       "172344         8  6964877         7  20180606             38.0           366   \n",
       "1398652        8  7017688         2  20180605             55.0           468   \n",
       "1435369       14  1156991         5  20180911            256.0         7,098   \n",
       "142972        25  5317297       213  20180703             33.0           865   \n",
       "142971        25  6059256       204  20180621              7.0            99   \n",
       "\n",
       "        DVC_CTG_NM       ZON_NM         CITY_NM  BUY_TOT_AM  TOT_BUY_AM  \\\n",
       "172344      mobile  Gyeonggi-do  Gwangmyeong-si       38000       38000   \n",
       "1398652     mobile        Seoul           Seoul       38000       38000   \n",
       "1435369     mobile  Gyeonggi-do        Ansan-si       69800       69800   \n",
       "142972     desktop  Gyeonggi-do     Hwaseong-si       39800       39800   \n",
       "142971     desktop  Gyeonggi-do         Osan-si       47000       47000   \n",
       "\n",
       "         MEAN_BUY_AM   STD_BUY_AM  TOT_BUY_CT  MEAN_BUY_CT  STD_BUY_CT  \\\n",
       "172344       38000.0          NaN           1          1.0         NaN   \n",
       "1398652      38000.0          NaN           1          1.0         NaN   \n",
       "1435369      34900.0  7071.067812           2          1.0         0.0   \n",
       "142972       39800.0          NaN           1          1.0         NaN   \n",
       "142971       47000.0          NaN           1          1.0         NaN   \n",
       "\n",
       "         TOT_PROD_PRICE  \n",
       "172344              NaN  \n",
       "1398652             NaN  \n",
       "1435369     7071.067812  \n",
       "142972              NaN  \n",
       "142971              NaN  "
      ]
     },
     "execution_count": 16,
     "metadata": {},
     "output_type": "execute_result"
    }
   ],
   "source": [
    "session.head()"
   ]
  },
  {
   "cell_type": "code",
   "execution_count": null,
   "metadata": {},
   "outputs": [],
   "source": []
  }
 ],
 "metadata": {
  "kernelspec": {
   "display_name": "Python 3",
   "language": "python",
   "name": "python3"
  },
  "language_info": {
   "codemirror_mode": {
    "name": "ipython",
    "version": 3
   },
   "file_extension": ".py",
   "mimetype": "text/x-python",
   "name": "python",
   "nbconvert_exporter": "python",
   "pygments_lexer": "ipython3",
   "version": "3.7.1"
  }
 },
 "nbformat": 4,
 "nbformat_minor": 2
}
