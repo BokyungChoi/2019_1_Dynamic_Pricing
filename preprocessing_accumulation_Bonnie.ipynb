{
 "cells": [
  {
   "cell_type": "markdown",
   "metadata": {},
   "source": [
    "### Settings"
   ]
  },
  {
   "cell_type": "code",
   "execution_count": 1,
   "metadata": {},
   "outputs": [],
   "source": [
    "import pandas as pd\n",
    "import os\n",
    "import matplotlib.pyplot as plt\n",
    "import re\n",
    "import numpy as np\n",
    "from datetime import datetime\n",
    "import time"
   ]
  },
  {
   "cell_type": "code",
   "execution_count": 2,
   "metadata": {},
   "outputs": [
    {
     "name": "stderr",
     "output_type": "stream",
     "text": [
      "C:\\ProgramData\\Anaconda3\\lib\\site-packages\\IPython\\core\\interactiveshell.py:3049: DtypeWarning: Columns (7) have mixed types. Specify dtype option on import or set low_memory=False.\n",
      "  interactivity=interactivity, compiler=compiler, result=result)\n"
     ]
    }
   ],
   "source": [
    "os.chdir(r'C:\\Users\\BokyungChoi\\Desktop\\GrowthHackers\\project_dynamic\\dataset')\n",
    "\n",
    "product = pd.read_csv('pruduct.csv', encoding='utf-8')\n",
    "session = pd.read_csv('Session.csv', encoding='utf-8')\n",
    "search1 = pd.read_csv('Search1.csv', encoding='utf-8')\n",
    "search2 = pd.read_csv('Search2.csv', encoding='utf-8')\n",
    "custom =  pd.read_csv('custom.csv', encoding='utf-8')\n",
    "master =  pd.read_csv('Master.csv', encoding='utf-8')"
   ]
  },
  {
   "cell_type": "code",
   "execution_count": 3,
   "metadata": {},
   "outputs": [
    {
     "name": "stderr",
     "output_type": "stream",
     "text": [
      "C:\\ProgramData\\Anaconda3\\lib\\site-packages\\ipykernel_launcher.py:2: FutureWarning: Possible nested set at position 1\n",
      "  \n"
     ]
    }
   ],
   "source": [
    "# 브랜드 변수에서 특수문자 제거\n",
    "product['PD_BRA_NM'] = list(map(lambda x:re.sub(\"[[,\\](,)\\s]\", \"\", x), product['PD_BRA_NM']))\n",
    "\n",
    "# 구매가격 변수를 str -> int 변환.\n",
    "product['PD_BUY_AM'] = list(map(lambda x:x.replace(\",\",\"\"),product['PD_BUY_AM']))\n",
    "product['PD_BUY_AM'] = product['PD_BUY_AM'].astype(int)\n",
    "\n",
    "# 구매개수 변수를 str&int -> int로 변환.\n",
    "product['PD_BUY_CT'] = product['PD_BUY_CT'].astype(str)\n",
    "product['PD_BUY_CT'] = list(map(lambda x:x.replace(\",\",\"\"),product['PD_BUY_CT']))\n",
    "product['PD_BUY_CT'] = product['PD_BUY_CT'].astype(int)\n",
    "\n",
    "# product를 CLNT_ID 순으로 정렬\n",
    "product = product.sort_values(by=['CLNT_ID'], axis=0)\n",
    "\n",
    "## product에 새로운 열 \"TOT_AM\" 생성 (PD_BUY_AM는 제품 하나 당 개수이므로, 이를 구매한 제품의 갯수와 곱한 \"총 지출 금액\"이 \"TOT_AM\"임)\n",
    "product[\"TOT_AM\"] = product[\"PD_BUY_AM\"] * product[\"PD_BUY_CT\"]"
   ]
  },
  {
   "cell_type": "code",
   "execution_count": 4,
   "metadata": {},
   "outputs": [],
   "source": [
    "session = session.sort_values(by=['CLNT_ID', 'SESS_ID'], axis=0)\n",
    "product = product.sort_values(by=['CLNT_ID', 'SESS_ID'], axis=0)"
   ]
  },
  {
   "cell_type": "code",
   "execution_count": 5,
   "metadata": {},
   "outputs": [],
   "source": [
    "raw1 = pd.merge(session, product, how='left', on = ['CLNT_ID', 'SESS_ID'])"
   ]
  },
  {
   "cell_type": "markdown",
   "metadata": {},
   "source": [
    "### Henry codes"
   ]
  },
  {
   "cell_type": "code",
   "execution_count": 6,
   "metadata": {},
   "outputs": [],
   "source": [
    "# '세션 내 구매 상품 가격' 단순 합계 & 평균 & 표준편차\n",
    "\n",
    "# tot_buy_am: CLNT_ID와 SESS_ID가 모두 같은 행들을 \"TOT_AM\"에 대해 합계를 구한 것\n",
    "tot_buy_am = product.groupby(['CLNT_ID', 'SESS_ID'])['TOT_AM'].agg('sum').tolist()\n",
    "\n",
    "# mean_buy_am: CLNT_ID와 SESS_ID가 모두 같은 행들을 \"TOT_AM\"에 대해 평균를 구한 것\n",
    "mean_buy_am = product.groupby(['CLNT_ID', 'SESS_ID'])['TOT_AM'].agg('mean').tolist()\n",
    "\n",
    "# std_buy_am: CLNT_ID와 SESS_ID가 모두 같은 행들을 \"TOT_AM\"에 대해 표준편차를 구한 것\n",
    "std_buy_am = product.groupby(['CLNT_ID', 'SESS_ID'])['TOT_AM'].agg('std').tolist()"
   ]
  },
  {
   "cell_type": "code",
   "execution_count": 7,
   "metadata": {},
   "outputs": [],
   "source": [
    "# '세션 내 상품 구매 개수' 단순 합계 & 평균 & 표준편차\n",
    "\n",
    "# tot_buy_ct: CLNT_ID와 SESS_ID가 모두 같은 행들을 \"PD_BUY_CT\"에 대해 총합를 구한 것\n",
    "tot_buy_ct = product.groupby(['CLNT_ID', 'SESS_ID'])['PD_BUY_CT'].agg('sum').tolist()\n",
    "\n",
    "# mean_buy_ct: CLNT_ID와 SESS_ID가 모두 같은 행들을 \"PD_BUY_CT\"에 대해 평균를 구한 것\n",
    "mean_buy_ct = product.groupby(['CLNT_ID', 'SESS_ID'])['PD_BUY_CT'].agg('mean').tolist()\n",
    "\n",
    "# std_buy_ct: CLNT_ID와 SESS_ID가 모두 같은 행들을 \"PD_BUY_CT\"에 대해 표준편차를 구한 것\n",
    "std_buy_ct = product.groupby(['CLNT_ID', 'SESS_ID'])['PD_BUY_CT'].agg('std').tolist()"
   ]
  },
  {
   "cell_type": "code",
   "execution_count": 8,
   "metadata": {},
   "outputs": [],
   "source": [
    "# '세션 내 구매한 상품의 가격' 단순 총합 & 평균 & 표준편차\n",
    "\n",
    "# tot_prod_price: CLNT_ID와 SESS_ID가 모두 같은 행들을 \"PD_BUY_AM\"에 대해 총합를 구한 것\n",
    "tot_prod_price = product.groupby(['CLNT_ID', 'SESS_ID'])['PD_BUY_AM'].agg('sum').tolist()\n",
    "\n",
    "# mean_prod_price: CLNT_ID와 SESS_ID가 모두 같은 행들을 \"PD_BUY_AM\"에 대해 평균를 구한 것\n",
    "mean_prod_price = product.groupby(['CLNT_ID', 'SESS_ID'])['PD_BUY_AM'].agg('mean').tolist()\n",
    "\n",
    "# std_prod_price: CLNT_ID와 SESS_ID가 모두 같은 행들을 \"PD_BUY_AM\"에 대해 표준편차를 구한 것\n",
    "std_prod_price = product.groupby(['CLNT_ID', 'SESS_ID'])['PD_BUY_AM'].agg('std').tolist()"
   ]
  },
  {
   "cell_type": "code",
   "execution_count": 9,
   "metadata": {},
   "outputs": [],
   "source": [
    "session[\"TOT_BUY_AM\"] = tot_buy_am\n",
    "session[\"MEAN_BUY_AM\"] = mean_buy_am\n",
    "session[\"STD_BUY_AM\"] = std_buy_am\n",
    "session[\"TOT_BUY_CT\"] = tot_buy_ct\n",
    "session[\"MEAN_BUY_CT\"] = mean_buy_ct\n",
    "session[\"STD_BUY_CT\"] = std_buy_ct\n",
    "session[\"TOT_PROD_PRICE\"] = tot_prod_price\n",
    "session[\"TOT_PROD_PRICE\"] = mean_prod_price\n",
    "session[\"TOT_PROD_PRICE\"] = std_prod_price"
   ]
  },
  {
   "cell_type": "markdown",
   "metadata": {},
   "source": [
    "#### -> Why so many NaNs?"
   ]
  },
  {
   "cell_type": "markdown",
   "metadata": {},
   "source": [
    "### Bonnie codes\n",
    "#### SESS_ID마다 구매한 상품 쌓아 - 그 대분류 쌓아 - 대분류 구매 패턴 (빈도 / 여부)\n",
    "#### 변수 1 : 세션 내 쇼핑 Category 구매 빈도(단순 횟수)\n",
    "#### 변수 2 : 세션 내 쇼핑 Category 구매 여부(0,1 binary vec)"
   ]
  },
  {
   "cell_type": "code",
   "execution_count": 11,
   "metadata": {},
   "outputs": [],
   "source": [
    "product = product.sort_values(by=['CLNT_ID', 'SESS_ID'], axis=0)\n",
    "master= master.sort_values(by='PD_C',ascending=True)"
   ]
  },
  {
   "cell_type": "code",
   "execution_count": 12,
   "metadata": {},
   "outputs": [
    {
     "data": {
      "text/html": [
       "<div>\n",
       "<style scoped>\n",
       "    .dataframe tbody tr th:only-of-type {\n",
       "        vertical-align: middle;\n",
       "    }\n",
       "\n",
       "    .dataframe tbody tr th {\n",
       "        vertical-align: top;\n",
       "    }\n",
       "\n",
       "    .dataframe thead th {\n",
       "        text-align: right;\n",
       "    }\n",
       "</style>\n",
       "<table border=\"1\" class=\"dataframe\">\n",
       "  <thead>\n",
       "    <tr style=\"text-align: right;\">\n",
       "      <th></th>\n",
       "      <th>CLNT_ID</th>\n",
       "      <th>SESS_ID</th>\n",
       "      <th>HITS_SEQ</th>\n",
       "      <th>PD_C</th>\n",
       "      <th>PD_ADD_NM</th>\n",
       "      <th>PD_BRA_NM</th>\n",
       "      <th>PD_BUY_AM</th>\n",
       "      <th>PD_BUY_CT</th>\n",
       "      <th>TOT_AM</th>\n",
       "      <th>PD_NM</th>\n",
       "      <th>CLAC1_NM</th>\n",
       "      <th>CLAC2_NM</th>\n",
       "      <th>CLAC3_NM</th>\n",
       "    </tr>\n",
       "  </thead>\n",
       "  <tbody>\n",
       "    <tr>\n",
       "      <th>0</th>\n",
       "      <td>8</td>\n",
       "      <td>6964877</td>\n",
       "      <td>40</td>\n",
       "      <td>206218</td>\n",
       "      <td>색상:BLACK|사이즈:ONE SIZE / 1개</td>\n",
       "      <td>플라넷비</td>\n",
       "      <td>38000</td>\n",
       "      <td>1</td>\n",
       "      <td>38000</td>\n",
       "      <td>남녀공용 오베이 DROP OUT UTILITY SMALL BAG(100010095)...</td>\n",
       "      <td>패션잡화</td>\n",
       "      <td>여성가방</td>\n",
       "      <td>여성클러치백</td>\n",
       "    </tr>\n",
       "    <tr>\n",
       "      <th>1</th>\n",
       "      <td>8</td>\n",
       "      <td>7017688</td>\n",
       "      <td>74</td>\n",
       "      <td>206218</td>\n",
       "      <td>색상:BLACK|사이즈:ONE SIZE / 1개</td>\n",
       "      <td>플라넷비</td>\n",
       "      <td>38000</td>\n",
       "      <td>1</td>\n",
       "      <td>38000</td>\n",
       "      <td>남녀공용 오베이 DROP OUT UTILITY SMALL BAG(100010095)...</td>\n",
       "      <td>패션잡화</td>\n",
       "      <td>여성가방</td>\n",
       "      <td>여성클러치백</td>\n",
       "    </tr>\n",
       "    <tr>\n",
       "      <th>2</th>\n",
       "      <td>14</td>\n",
       "      <td>1156991</td>\n",
       "      <td>284</td>\n",
       "      <td>369141</td>\n",
       "      <td>색상:LL2G16216RGB|사이즈:FREE / 1개</td>\n",
       "      <td>로이드</td>\n",
       "      <td>39900</td>\n",
       "      <td>1</td>\n",
       "      <td>39900</td>\n",
       "      <td>여성가죽시계 LL2G16216RGB - LL2G16216RGB / FREE</td>\n",
       "      <td>패션잡화</td>\n",
       "      <td>시계</td>\n",
       "      <td>여성시계</td>\n",
       "    </tr>\n",
       "    <tr>\n",
       "      <th>3</th>\n",
       "      <td>2772169</td>\n",
       "      <td>150790</td>\n",
       "      <td>26</td>\n",
       "      <td>369141</td>\n",
       "      <td>색상:LL2G16216RGB|사이즈:FREE / 1개</td>\n",
       "      <td>로이드</td>\n",
       "      <td>39900</td>\n",
       "      <td>1</td>\n",
       "      <td>39900</td>\n",
       "      <td>여성가죽시계 LL2G16216RGB - LL2G16216RGB / FREE</td>\n",
       "      <td>패션잡화</td>\n",
       "      <td>시계</td>\n",
       "      <td>여성시계</td>\n",
       "    </tr>\n",
       "    <tr>\n",
       "      <th>4</th>\n",
       "      <td>14</td>\n",
       "      <td>1156991</td>\n",
       "      <td>284</td>\n",
       "      <td>645262</td>\n",
       "      <td>색상:LL1G14817AIN|사이즈:FREE / 1개</td>\n",
       "      <td>로이드주얼리</td>\n",
       "      <td>29900</td>\n",
       "      <td>1</td>\n",
       "      <td>29900</td>\n",
       "      <td>남성가죽시계 LL1G14817AIN - LL1G14817AIN / FREE</td>\n",
       "      <td>패션잡화</td>\n",
       "      <td>시계</td>\n",
       "      <td>여성시계</td>\n",
       "    </tr>\n",
       "  </tbody>\n",
       "</table>\n",
       "</div>"
      ],
      "text/plain": [
       "   CLNT_ID  SESS_ID  HITS_SEQ    PD_C                      PD_ADD_NM  \\\n",
       "0        8  6964877        40  206218     색상:BLACK|사이즈:ONE SIZE / 1개   \n",
       "1        8  7017688        74  206218     색상:BLACK|사이즈:ONE SIZE / 1개   \n",
       "2       14  1156991       284  369141  색상:LL2G16216RGB|사이즈:FREE / 1개   \n",
       "3  2772169   150790        26  369141  색상:LL2G16216RGB|사이즈:FREE / 1개   \n",
       "4       14  1156991       284  645262  색상:LL1G14817AIN|사이즈:FREE / 1개   \n",
       "\n",
       "  PD_BRA_NM  PD_BUY_AM  PD_BUY_CT  TOT_AM  \\\n",
       "0      플라넷비      38000          1   38000   \n",
       "1      플라넷비      38000          1   38000   \n",
       "2       로이드      39900          1   39900   \n",
       "3       로이드      39900          1   39900   \n",
       "4    로이드주얼리      29900          1   29900   \n",
       "\n",
       "                                               PD_NM CLAC1_NM CLAC2_NM  \\\n",
       "0  남녀공용 오베이 DROP OUT UTILITY SMALL BAG(100010095)...     패션잡화     여성가방   \n",
       "1  남녀공용 오베이 DROP OUT UTILITY SMALL BAG(100010095)...     패션잡화     여성가방   \n",
       "2          여성가죽시계 LL2G16216RGB - LL2G16216RGB / FREE     패션잡화       시계   \n",
       "3          여성가죽시계 LL2G16216RGB - LL2G16216RGB / FREE     패션잡화       시계   \n",
       "4          남성가죽시계 LL1G14817AIN - LL1G14817AIN / FREE     패션잡화       시계   \n",
       "\n",
       "  CLAC3_NM  \n",
       "0   여성클러치백  \n",
       "1   여성클러치백  \n",
       "2     여성시계  \n",
       "3     여성시계  \n",
       "4     여성시계  "
      ]
     },
     "execution_count": 12,
     "metadata": {},
     "output_type": "execute_result"
    }
   ],
   "source": [
    "raw2=product.merge(master,on='PD_C',how='inner')\n",
    "raw2.head()"
   ]
  },
  {
   "cell_type": "code",
   "execution_count": 13,
   "metadata": {},
   "outputs": [
    {
     "data": {
      "text/plain": [
       "['가구', '건강식품', '계절가전']"
      ]
     },
     "execution_count": 13,
     "metadata": {},
     "output_type": "execute_result"
    }
   ],
   "source": [
    "#사전식으로 대분류 배열 정렬 (ㄱ으로 시작하여 ㅎ으로 끝나도록)\n",
    "clac1_list=list(raw2['CLAC1_NM'].unique())\n",
    "clac1_list.sort()\n",
    "clac1_list[0:3]"
   ]
  },
  {
   "cell_type": "code",
   "execution_count": 14,
   "metadata": {
    "scrolled": true
   },
   "outputs": [
    {
     "data": {
      "text/plain": [
       "{'가구': 0,\n",
       " '건강식품': 1,\n",
       " '계절가전': 2,\n",
       " '과일': 3,\n",
       " '구기/필드스포츠': 4,\n",
       " '남성의류': 5,\n",
       " '냉동식품': 6,\n",
       " '냉장/세탁가전': 7,\n",
       " '냉장식품': 8,\n",
       " '모바일': 9,\n",
       " '문구/사무용품': 10,\n",
       " '상품권': 11,\n",
       " '생활/주방가전': 12,\n",
       " '세제/위생': 13,\n",
       " '속옷/양말/홈웨어': 14,\n",
       " '스포츠패션': 15,\n",
       " '시즌스포츠': 16,\n",
       " '식기/조리기구': 17,\n",
       " '아웃도어/레저': 18,\n",
       " '여성의류': 19,\n",
       " '영상/음향가전': 20,\n",
       " '완구': 21,\n",
       " '원예/애완': 22,\n",
       " '유아동의류': 23,\n",
       " '음료': 24,\n",
       " '인테리어/조명': 25,\n",
       " '자동차용품': 26,\n",
       " '주방잡화': 27,\n",
       " '청소/세탁/욕실용품': 28,\n",
       " '축산물': 29,\n",
       " '출산/육아용품': 30,\n",
       " '침구/수예': 31,\n",
       " '컴퓨터': 32,\n",
       " '패션잡화': 33,\n",
       " '퍼스널케어': 34,\n",
       " '헬스/피트니스': 35,\n",
       " '화장품/뷰티케어': 36}"
      ]
     },
     "execution_count": 14,
     "metadata": {},
     "output_type": "execute_result"
    }
   ],
   "source": [
    "CLAC1_NM_dict=dict(zip(clac1_list,range(0,37)))\n",
    "CLAC1_NM_dict"
   ]
  },
  {
   "cell_type": "code",
   "execution_count": 15,
   "metadata": {
    "scrolled": true
   },
   "outputs": [],
   "source": [
    "#대분류 한글 -> 배정된 숫자로 변경\n",
    "raw3=raw2.replace({\"CLAC1_NM\": CLAC1_NM_dict})"
   ]
  },
  {
   "cell_type": "markdown",
   "metadata": {},
   "source": [
    "#### Phase1. Stacking 구매 상품 - 15분 소요"
   ]
  },
  {
   "cell_type": "code",
   "execution_count": 16,
   "metadata": {
    "scrolled": true
   },
   "outputs": [
    {
     "data": {
      "text/html": [
       "<div>\n",
       "<style scoped>\n",
       "    .dataframe tbody tr th:only-of-type {\n",
       "        vertical-align: middle;\n",
       "    }\n",
       "\n",
       "    .dataframe tbody tr th {\n",
       "        vertical-align: top;\n",
       "    }\n",
       "\n",
       "    .dataframe thead th {\n",
       "        text-align: right;\n",
       "    }\n",
       "</style>\n",
       "<table border=\"1\" class=\"dataframe\">\n",
       "  <thead>\n",
       "    <tr style=\"text-align: right;\">\n",
       "      <th></th>\n",
       "      <th></th>\n",
       "      <th>CLAC1_NM</th>\n",
       "    </tr>\n",
       "    <tr>\n",
       "      <th>CLNT_ID</th>\n",
       "      <th>SESS_ID</th>\n",
       "      <th></th>\n",
       "    </tr>\n",
       "  </thead>\n",
       "  <tbody>\n",
       "    <tr>\n",
       "      <th rowspan=\"2\" valign=\"top\">8</th>\n",
       "      <th>6964877</th>\n",
       "      <td>[33]</td>\n",
       "    </tr>\n",
       "    <tr>\n",
       "      <th>7017688</th>\n",
       "      <td>[33]</td>\n",
       "    </tr>\n",
       "    <tr>\n",
       "      <th>14</th>\n",
       "      <th>1156991</th>\n",
       "      <td>[33, 33]</td>\n",
       "    </tr>\n",
       "    <tr>\n",
       "      <th rowspan=\"4\" valign=\"top\">25</th>\n",
       "      <th>5317297</th>\n",
       "      <td>[36]</td>\n",
       "    </tr>\n",
       "    <tr>\n",
       "      <th>6059256</th>\n",
       "      <td>[24]</td>\n",
       "    </tr>\n",
       "    <tr>\n",
       "      <th>8113243</th>\n",
       "      <td>[24]</td>\n",
       "    </tr>\n",
       "    <tr>\n",
       "      <th>9506206</th>\n",
       "      <td>[24]</td>\n",
       "    </tr>\n",
       "    <tr>\n",
       "      <th rowspan=\"2\" valign=\"top\">32</th>\n",
       "      <th>759569</th>\n",
       "      <td>[14, 14]</td>\n",
       "    </tr>\n",
       "    <tr>\n",
       "      <th>1136737</th>\n",
       "      <td>[5, 5, 5]</td>\n",
       "    </tr>\n",
       "    <tr>\n",
       "      <th>33</th>\n",
       "      <th>8694850</th>\n",
       "      <td>[13, 34]</td>\n",
       "    </tr>\n",
       "  </tbody>\n",
       "</table>\n",
       "</div>"
      ],
      "text/plain": [
       "                  CLAC1_NM\n",
       "CLNT_ID SESS_ID           \n",
       "8       6964877       [33]\n",
       "        7017688       [33]\n",
       "14      1156991   [33, 33]\n",
       "25      5317297       [36]\n",
       "        6059256       [24]\n",
       "        8113243       [24]\n",
       "        9506206       [24]\n",
       "32      759569    [14, 14]\n",
       "        1136737  [5, 5, 5]\n",
       "33      8694850   [13, 34]"
      ]
     },
     "execution_count": 16,
     "metadata": {},
     "output_type": "execute_result"
    }
   ],
   "source": [
    "# temp_series = raw3.groupby(['CLNT_ID', 'SESS_ID'])['CLAC1_NM'].apply(lambda x: \"[%s]\" % ','.join(x))\n",
    "temp_series = raw3.groupby(['CLNT_ID', 'SESS_ID'])['CLAC1_NM'].agg(lambda x: list(x))\n",
    "temp_df=pd.DataFrame(temp_series)\n",
    "temp_df.head(10)"
   ]
  },
  {
   "cell_type": "code",
   "execution_count": 17,
   "metadata": {},
   "outputs": [],
   "source": [
    "temp2_df=temp_df.reset_index()  "
   ]
  },
  {
   "cell_type": "code",
   "execution_count": 18,
   "metadata": {},
   "outputs": [
    {
     "data": {
      "text/html": [
       "<div>\n",
       "<style scoped>\n",
       "    .dataframe tbody tr th:only-of-type {\n",
       "        vertical-align: middle;\n",
       "    }\n",
       "\n",
       "    .dataframe tbody tr th {\n",
       "        vertical-align: top;\n",
       "    }\n",
       "\n",
       "    .dataframe thead th {\n",
       "        text-align: right;\n",
       "    }\n",
       "</style>\n",
       "<table border=\"1\" class=\"dataframe\">\n",
       "  <thead>\n",
       "    <tr style=\"text-align: right;\">\n",
       "      <th></th>\n",
       "      <th>CLNT_ID</th>\n",
       "      <th>SESS_ID</th>\n",
       "      <th>CLAC1_NM</th>\n",
       "    </tr>\n",
       "  </thead>\n",
       "  <tbody>\n",
       "    <tr>\n",
       "      <th>0</th>\n",
       "      <td>8</td>\n",
       "      <td>6964877</td>\n",
       "      <td>[33]</td>\n",
       "    </tr>\n",
       "    <tr>\n",
       "      <th>1</th>\n",
       "      <td>8</td>\n",
       "      <td>7017688</td>\n",
       "      <td>[33]</td>\n",
       "    </tr>\n",
       "    <tr>\n",
       "      <th>2</th>\n",
       "      <td>14</td>\n",
       "      <td>1156991</td>\n",
       "      <td>[33, 33]</td>\n",
       "    </tr>\n",
       "    <tr>\n",
       "      <th>3</th>\n",
       "      <td>25</td>\n",
       "      <td>5317297</td>\n",
       "      <td>[36]</td>\n",
       "    </tr>\n",
       "    <tr>\n",
       "      <th>4</th>\n",
       "      <td>25</td>\n",
       "      <td>6059256</td>\n",
       "      <td>[24]</td>\n",
       "    </tr>\n",
       "  </tbody>\n",
       "</table>\n",
       "</div>"
      ],
      "text/plain": [
       "   CLNT_ID  SESS_ID  CLAC1_NM\n",
       "0        8  6964877      [33]\n",
       "1        8  7017688      [33]\n",
       "2       14  1156991  [33, 33]\n",
       "3       25  5317297      [36]\n",
       "4       25  6059256      [24]"
      ]
     },
     "execution_count": 18,
     "metadata": {},
     "output_type": "execute_result"
    }
   ],
   "source": [
    "temp2_df.head()"
   ]
  },
  {
   "cell_type": "markdown",
   "metadata": {},
   "source": [
    "#### Phase2. SESS_ID로 정렬된 Dataframe을 역행하여 {SESS_ID: 36개의 대분류 구매 빈도 vector}의 Dictionary를 만들거에요."
   ]
  },
  {
   "cell_type": "code",
   "execution_count": 30,
   "metadata": {
    "scrolled": false
   },
   "outputs": [],
   "source": [
    "# 이런 식으로 empty vector 제작\n",
    "vec_frame=np.zeros((1,37))"
   ]
  },
  {
   "cell_type": "code",
   "execution_count": 22,
   "metadata": {},
   "outputs": [],
   "source": [
    "# 겹치는 SESS_ID가 있어서 다른 고객 구매 패턴이 한 곳에 저장되는 것을 막기 위해\n",
    "# 중복되는 SESS_ID를 리스트로 뽑아내고, \n",
    "# 최초의 SESS_ID의 구매 패턴만 딕셔너리에 저장합니다.\n",
    "\n",
    "def check_add_key(dict, list, key,n): \n",
    "    if key in dict.keys(): \n",
    "        list=list.append(key)\n",
    "    else: \n",
    "        dict[temp2_df.SESS_ID[n]]=vec_frame"
   ]
  },
  {
   "cell_type": "markdown",
   "metadata": {},
   "source": [
    "#### 변수 1 - 10-15분 소요"
   ]
  },
  {
   "cell_type": "code",
   "execution_count": 23,
   "metadata": {},
   "outputs": [
    {
     "name": "stdout",
     "output_type": "stream",
     "text": [
      "Done\n"
     ]
    }
   ],
   "source": [
    "# 변수 1 단순 빈도 Vector\n",
    "n=len(temp_df)-1\n",
    "prod_count_dict={}\n",
    "redundant_key=[] # 중복 Session ID를 모을 겁니다.\n",
    "\n",
    "while True:\n",
    "    vec_frame=np.zeros((1,37))\n",
    "    if n !=-1:\n",
    "        for i in temp2_df.CLAC1_NM[n]:\n",
    "            vec_frame[0][i]+=1\n",
    "        check_add_key(prod_count_dict,redundant_key,temp2_df.SESS_ID[n],n)\n",
    "        n=n-1\n",
    "    elif n ==-1:\n",
    "        print(\"Done\")\n",
    "        break"
   ]
  },
  {
   "cell_type": "code",
   "execution_count": 28,
   "metadata": {},
   "outputs": [
    {
     "data": {
      "text/plain": [
       "True"
      ]
     },
     "execution_count": 28,
     "metadata": {},
     "output_type": "execute_result"
    }
   ],
   "source": [
    "#중복 Session ID가 잘 걸러졌나요?\n",
    "len(prod_count_dict)+len(redundant_key)==len(temp_df)"
   ]
  },
  {
   "cell_type": "markdown",
   "metadata": {},
   "source": [
    "#### 변수 2 - 10-15분 소요"
   ]
  },
  {
   "cell_type": "code",
   "execution_count": 29,
   "metadata": {},
   "outputs": [
    {
     "name": "stdout",
     "output_type": "stream",
     "text": [
      "Done\n"
     ]
    }
   ],
   "source": [
    "# 변수 2 0,1의 Binary Vector\n",
    "n=len(temp_df)-1\n",
    "prod_bin_dict={}\n",
    "redundant_key2=[]\n",
    "\n",
    "while True:\n",
    "    vec_frame=np.zeros((1,37))\n",
    "    if n !=-1:\n",
    "        for i in set(temp2_df.CLAC1_NM[n]):\n",
    "            vec_frame[0][i]+=1\n",
    "        check_add_key(prod_bin_dict,redundant_key2,temp2_df.SESS_ID[n],n)\n",
    "        n=n-1\n",
    "    elif n ==-1:\n",
    "        print(\"Done\")\n",
    "        break"
   ]
  },
  {
   "cell_type": "code",
   "execution_count": 31,
   "metadata": {},
   "outputs": [
    {
     "data": {
      "text/plain": [
       "True"
      ]
     },
     "execution_count": 31,
     "metadata": {},
     "output_type": "execute_result"
    }
   ],
   "source": [
    "#중복 Session ID가 잘 걸러졌나요?\n",
    "len(prod_bin_dict)+len(redundant_key2)==len(temp_df)"
   ]
  },
  {
   "cell_type": "markdown",
   "metadata": {},
   "source": [
    "#### Phase3. Henry의 데이터프레임과 연결"
   ]
  },
  {
   "cell_type": "code",
   "execution_count": 35,
   "metadata": {},
   "outputs": [
    {
     "data": {
      "text/html": [
       "<div>\n",
       "<style scoped>\n",
       "    .dataframe tbody tr th:only-of-type {\n",
       "        vertical-align: middle;\n",
       "    }\n",
       "\n",
       "    .dataframe tbody tr th {\n",
       "        vertical-align: top;\n",
       "    }\n",
       "\n",
       "    .dataframe thead th {\n",
       "        text-align: right;\n",
       "    }\n",
       "</style>\n",
       "<table border=\"1\" class=\"dataframe\">\n",
       "  <thead>\n",
       "    <tr style=\"text-align: right;\">\n",
       "      <th></th>\n",
       "      <th>CLNT_ID</th>\n",
       "      <th>SESS_ID</th>\n",
       "      <th>SESS_SEQ</th>\n",
       "      <th>SESS_DT</th>\n",
       "      <th>TOT_PAG_VIEW_CT</th>\n",
       "      <th>TOT_SESS_HR_V</th>\n",
       "      <th>DVC_CTG_NM</th>\n",
       "      <th>ZON_NM</th>\n",
       "      <th>CITY_NM</th>\n",
       "      <th>TOT_BUY_AM</th>\n",
       "      <th>MEAN_BUY_AM</th>\n",
       "      <th>STD_BUY_AM</th>\n",
       "      <th>TOT_BUY_CT</th>\n",
       "      <th>MEAN_BUY_CT</th>\n",
       "      <th>STD_BUY_CT</th>\n",
       "      <th>TOT_PROD_PRICE</th>\n",
       "    </tr>\n",
       "  </thead>\n",
       "  <tbody>\n",
       "    <tr>\n",
       "      <th>172344</th>\n",
       "      <td>8</td>\n",
       "      <td>6964877</td>\n",
       "      <td>7</td>\n",
       "      <td>20180606</td>\n",
       "      <td>38.0</td>\n",
       "      <td>366</td>\n",
       "      <td>mobile</td>\n",
       "      <td>Gyeonggi-do</td>\n",
       "      <td>Gwangmyeong-si</td>\n",
       "      <td>38000</td>\n",
       "      <td>38000.0</td>\n",
       "      <td>NaN</td>\n",
       "      <td>1</td>\n",
       "      <td>1.0</td>\n",
       "      <td>NaN</td>\n",
       "      <td>NaN</td>\n",
       "    </tr>\n",
       "    <tr>\n",
       "      <th>1398652</th>\n",
       "      <td>8</td>\n",
       "      <td>7017688</td>\n",
       "      <td>2</td>\n",
       "      <td>20180605</td>\n",
       "      <td>55.0</td>\n",
       "      <td>468</td>\n",
       "      <td>mobile</td>\n",
       "      <td>Seoul</td>\n",
       "      <td>Seoul</td>\n",
       "      <td>38000</td>\n",
       "      <td>38000.0</td>\n",
       "      <td>NaN</td>\n",
       "      <td>1</td>\n",
       "      <td>1.0</td>\n",
       "      <td>NaN</td>\n",
       "      <td>NaN</td>\n",
       "    </tr>\n",
       "    <tr>\n",
       "      <th>1435369</th>\n",
       "      <td>14</td>\n",
       "      <td>1156991</td>\n",
       "      <td>5</td>\n",
       "      <td>20180911</td>\n",
       "      <td>256.0</td>\n",
       "      <td>7,098</td>\n",
       "      <td>mobile</td>\n",
       "      <td>Gyeonggi-do</td>\n",
       "      <td>Ansan-si</td>\n",
       "      <td>69800</td>\n",
       "      <td>34900.0</td>\n",
       "      <td>7071.067812</td>\n",
       "      <td>2</td>\n",
       "      <td>1.0</td>\n",
       "      <td>0.0</td>\n",
       "      <td>7071.067812</td>\n",
       "    </tr>\n",
       "    <tr>\n",
       "      <th>142972</th>\n",
       "      <td>25</td>\n",
       "      <td>5317297</td>\n",
       "      <td>213</td>\n",
       "      <td>20180703</td>\n",
       "      <td>33.0</td>\n",
       "      <td>865</td>\n",
       "      <td>desktop</td>\n",
       "      <td>Gyeonggi-do</td>\n",
       "      <td>Hwaseong-si</td>\n",
       "      <td>39800</td>\n",
       "      <td>39800.0</td>\n",
       "      <td>NaN</td>\n",
       "      <td>1</td>\n",
       "      <td>1.0</td>\n",
       "      <td>NaN</td>\n",
       "      <td>NaN</td>\n",
       "    </tr>\n",
       "    <tr>\n",
       "      <th>142971</th>\n",
       "      <td>25</td>\n",
       "      <td>6059256</td>\n",
       "      <td>204</td>\n",
       "      <td>20180621</td>\n",
       "      <td>7.0</td>\n",
       "      <td>99</td>\n",
       "      <td>desktop</td>\n",
       "      <td>Gyeonggi-do</td>\n",
       "      <td>Osan-si</td>\n",
       "      <td>47000</td>\n",
       "      <td>47000.0</td>\n",
       "      <td>NaN</td>\n",
       "      <td>1</td>\n",
       "      <td>1.0</td>\n",
       "      <td>NaN</td>\n",
       "      <td>NaN</td>\n",
       "    </tr>\n",
       "  </tbody>\n",
       "</table>\n",
       "</div>"
      ],
      "text/plain": [
       "         CLNT_ID  SESS_ID  SESS_SEQ   SESS_DT  TOT_PAG_VIEW_CT TOT_SESS_HR_V  \\\n",
       "172344         8  6964877         7  20180606             38.0           366   \n",
       "1398652        8  7017688         2  20180605             55.0           468   \n",
       "1435369       14  1156991         5  20180911            256.0         7,098   \n",
       "142972        25  5317297       213  20180703             33.0           865   \n",
       "142971        25  6059256       204  20180621              7.0            99   \n",
       "\n",
       "        DVC_CTG_NM       ZON_NM         CITY_NM  TOT_BUY_AM  MEAN_BUY_AM  \\\n",
       "172344      mobile  Gyeonggi-do  Gwangmyeong-si       38000      38000.0   \n",
       "1398652     mobile        Seoul           Seoul       38000      38000.0   \n",
       "1435369     mobile  Gyeonggi-do        Ansan-si       69800      34900.0   \n",
       "142972     desktop  Gyeonggi-do     Hwaseong-si       39800      39800.0   \n",
       "142971     desktop  Gyeonggi-do         Osan-si       47000      47000.0   \n",
       "\n",
       "          STD_BUY_AM  TOT_BUY_CT  MEAN_BUY_CT  STD_BUY_CT  TOT_PROD_PRICE  \n",
       "172344           NaN           1          1.0         NaN             NaN  \n",
       "1398652          NaN           1          1.0         NaN             NaN  \n",
       "1435369  7071.067812           2          1.0         0.0     7071.067812  \n",
       "142972           NaN           1          1.0         NaN             NaN  \n",
       "142971           NaN           1          1.0         NaN             NaN  "
      ]
     },
     "execution_count": 35,
     "metadata": {},
     "output_type": "execute_result"
    }
   ],
   "source": [
    "session.head()"
   ]
  },
  {
   "cell_type": "code",
   "execution_count": 47,
   "metadata": {},
   "outputs": [],
   "source": [
    "session['PD_CT_Vec']=\"\"\n",
    "session['PD_CT_Vec']=session['SESS_ID'].map(prod_count_dict)"
   ]
  },
  {
   "cell_type": "code",
   "execution_count": 45,
   "metadata": {},
   "outputs": [],
   "source": [
    "session['PD_BIN_Vec']=\"\"\n",
    "session['PD_BIN_Vec']=session['SESS_ID'].map(prod_bin_dict)"
   ]
  },
  {
   "cell_type": "code",
   "execution_count": 48,
   "metadata": {},
   "outputs": [
    {
     "data": {
      "text/html": [
       "<div>\n",
       "<style scoped>\n",
       "    .dataframe tbody tr th:only-of-type {\n",
       "        vertical-align: middle;\n",
       "    }\n",
       "\n",
       "    .dataframe tbody tr th {\n",
       "        vertical-align: top;\n",
       "    }\n",
       "\n",
       "    .dataframe thead th {\n",
       "        text-align: right;\n",
       "    }\n",
       "</style>\n",
       "<table border=\"1\" class=\"dataframe\">\n",
       "  <thead>\n",
       "    <tr style=\"text-align: right;\">\n",
       "      <th></th>\n",
       "      <th>CLNT_ID</th>\n",
       "      <th>SESS_ID</th>\n",
       "      <th>SESS_SEQ</th>\n",
       "      <th>SESS_DT</th>\n",
       "      <th>TOT_PAG_VIEW_CT</th>\n",
       "      <th>TOT_SESS_HR_V</th>\n",
       "      <th>DVC_CTG_NM</th>\n",
       "      <th>ZON_NM</th>\n",
       "      <th>CITY_NM</th>\n",
       "      <th>TOT_BUY_AM</th>\n",
       "      <th>MEAN_BUY_AM</th>\n",
       "      <th>STD_BUY_AM</th>\n",
       "      <th>TOT_BUY_CT</th>\n",
       "      <th>MEAN_BUY_CT</th>\n",
       "      <th>STD_BUY_CT</th>\n",
       "      <th>TOT_PROD_PRICE</th>\n",
       "      <th>PD_CT_Vec</th>\n",
       "      <th>PD_BIN_Vec</th>\n",
       "    </tr>\n",
       "  </thead>\n",
       "  <tbody>\n",
       "    <tr>\n",
       "      <th>172344</th>\n",
       "      <td>8</td>\n",
       "      <td>6964877</td>\n",
       "      <td>7</td>\n",
       "      <td>20180606</td>\n",
       "      <td>38.0</td>\n",
       "      <td>366</td>\n",
       "      <td>mobile</td>\n",
       "      <td>Gyeonggi-do</td>\n",
       "      <td>Gwangmyeong-si</td>\n",
       "      <td>38000</td>\n",
       "      <td>38000.0</td>\n",
       "      <td>NaN</td>\n",
       "      <td>1</td>\n",
       "      <td>1.0</td>\n",
       "      <td>NaN</td>\n",
       "      <td>NaN</td>\n",
       "      <td>[[0.0, 0.0, 0.0, 0.0, 0.0, 0.0, 0.0, 0.0, 0.0,...</td>\n",
       "      <td>[[0.0, 0.0, 0.0, 0.0, 0.0, 0.0, 0.0, 0.0, 0.0,...</td>\n",
       "    </tr>\n",
       "    <tr>\n",
       "      <th>1398652</th>\n",
       "      <td>8</td>\n",
       "      <td>7017688</td>\n",
       "      <td>2</td>\n",
       "      <td>20180605</td>\n",
       "      <td>55.0</td>\n",
       "      <td>468</td>\n",
       "      <td>mobile</td>\n",
       "      <td>Seoul</td>\n",
       "      <td>Seoul</td>\n",
       "      <td>38000</td>\n",
       "      <td>38000.0</td>\n",
       "      <td>NaN</td>\n",
       "      <td>1</td>\n",
       "      <td>1.0</td>\n",
       "      <td>NaN</td>\n",
       "      <td>NaN</td>\n",
       "      <td>[[0.0, 0.0, 0.0, 0.0, 0.0, 0.0, 0.0, 0.0, 0.0,...</td>\n",
       "      <td>[[0.0, 0.0, 0.0, 0.0, 0.0, 0.0, 0.0, 0.0, 0.0,...</td>\n",
       "    </tr>\n",
       "    <tr>\n",
       "      <th>1435369</th>\n",
       "      <td>14</td>\n",
       "      <td>1156991</td>\n",
       "      <td>5</td>\n",
       "      <td>20180911</td>\n",
       "      <td>256.0</td>\n",
       "      <td>7,098</td>\n",
       "      <td>mobile</td>\n",
       "      <td>Gyeonggi-do</td>\n",
       "      <td>Ansan-si</td>\n",
       "      <td>69800</td>\n",
       "      <td>34900.0</td>\n",
       "      <td>7071.067812</td>\n",
       "      <td>2</td>\n",
       "      <td>1.0</td>\n",
       "      <td>0.0</td>\n",
       "      <td>7071.067812</td>\n",
       "      <td>[[0.0, 0.0, 0.0, 0.0, 0.0, 0.0, 0.0, 0.0, 0.0,...</td>\n",
       "      <td>[[0.0, 0.0, 0.0, 0.0, 0.0, 0.0, 0.0, 0.0, 0.0,...</td>\n",
       "    </tr>\n",
       "    <tr>\n",
       "      <th>142972</th>\n",
       "      <td>25</td>\n",
       "      <td>5317297</td>\n",
       "      <td>213</td>\n",
       "      <td>20180703</td>\n",
       "      <td>33.0</td>\n",
       "      <td>865</td>\n",
       "      <td>desktop</td>\n",
       "      <td>Gyeonggi-do</td>\n",
       "      <td>Hwaseong-si</td>\n",
       "      <td>39800</td>\n",
       "      <td>39800.0</td>\n",
       "      <td>NaN</td>\n",
       "      <td>1</td>\n",
       "      <td>1.0</td>\n",
       "      <td>NaN</td>\n",
       "      <td>NaN</td>\n",
       "      <td>[[0.0, 0.0, 0.0, 0.0, 0.0, 0.0, 0.0, 0.0, 0.0,...</td>\n",
       "      <td>[[0.0, 0.0, 0.0, 0.0, 0.0, 0.0, 0.0, 0.0, 0.0,...</td>\n",
       "    </tr>\n",
       "    <tr>\n",
       "      <th>142971</th>\n",
       "      <td>25</td>\n",
       "      <td>6059256</td>\n",
       "      <td>204</td>\n",
       "      <td>20180621</td>\n",
       "      <td>7.0</td>\n",
       "      <td>99</td>\n",
       "      <td>desktop</td>\n",
       "      <td>Gyeonggi-do</td>\n",
       "      <td>Osan-si</td>\n",
       "      <td>47000</td>\n",
       "      <td>47000.0</td>\n",
       "      <td>NaN</td>\n",
       "      <td>1</td>\n",
       "      <td>1.0</td>\n",
       "      <td>NaN</td>\n",
       "      <td>NaN</td>\n",
       "      <td>[[0.0, 0.0, 0.0, 0.0, 0.0, 2.0, 0.0, 0.0, 0.0,...</td>\n",
       "      <td>[[0.0, 0.0, 0.0, 0.0, 0.0, 1.0, 0.0, 0.0, 0.0,...</td>\n",
       "    </tr>\n",
       "  </tbody>\n",
       "</table>\n",
       "</div>"
      ],
      "text/plain": [
       "         CLNT_ID  SESS_ID  SESS_SEQ   SESS_DT  TOT_PAG_VIEW_CT TOT_SESS_HR_V  \\\n",
       "172344         8  6964877         7  20180606             38.0           366   \n",
       "1398652        8  7017688         2  20180605             55.0           468   \n",
       "1435369       14  1156991         5  20180911            256.0         7,098   \n",
       "142972        25  5317297       213  20180703             33.0           865   \n",
       "142971        25  6059256       204  20180621              7.0            99   \n",
       "\n",
       "        DVC_CTG_NM       ZON_NM         CITY_NM  TOT_BUY_AM  MEAN_BUY_AM  \\\n",
       "172344      mobile  Gyeonggi-do  Gwangmyeong-si       38000      38000.0   \n",
       "1398652     mobile        Seoul           Seoul       38000      38000.0   \n",
       "1435369     mobile  Gyeonggi-do        Ansan-si       69800      34900.0   \n",
       "142972     desktop  Gyeonggi-do     Hwaseong-si       39800      39800.0   \n",
       "142971     desktop  Gyeonggi-do         Osan-si       47000      47000.0   \n",
       "\n",
       "          STD_BUY_AM  TOT_BUY_CT  MEAN_BUY_CT  STD_BUY_CT  TOT_PROD_PRICE  \\\n",
       "172344           NaN           1          1.0         NaN             NaN   \n",
       "1398652          NaN           1          1.0         NaN             NaN   \n",
       "1435369  7071.067812           2          1.0         0.0     7071.067812   \n",
       "142972           NaN           1          1.0         NaN             NaN   \n",
       "142971           NaN           1          1.0         NaN             NaN   \n",
       "\n",
       "                                                 PD_CT_Vec  \\\n",
       "172344   [[0.0, 0.0, 0.0, 0.0, 0.0, 0.0, 0.0, 0.0, 0.0,...   \n",
       "1398652  [[0.0, 0.0, 0.0, 0.0, 0.0, 0.0, 0.0, 0.0, 0.0,...   \n",
       "1435369  [[0.0, 0.0, 0.0, 0.0, 0.0, 0.0, 0.0, 0.0, 0.0,...   \n",
       "142972   [[0.0, 0.0, 0.0, 0.0, 0.0, 0.0, 0.0, 0.0, 0.0,...   \n",
       "142971   [[0.0, 0.0, 0.0, 0.0, 0.0, 2.0, 0.0, 0.0, 0.0,...   \n",
       "\n",
       "                                                PD_BIN_Vec  \n",
       "172344   [[0.0, 0.0, 0.0, 0.0, 0.0, 0.0, 0.0, 0.0, 0.0,...  \n",
       "1398652  [[0.0, 0.0, 0.0, 0.0, 0.0, 0.0, 0.0, 0.0, 0.0,...  \n",
       "1435369  [[0.0, 0.0, 0.0, 0.0, 0.0, 0.0, 0.0, 0.0, 0.0,...  \n",
       "142972   [[0.0, 0.0, 0.0, 0.0, 0.0, 0.0, 0.0, 0.0, 0.0,...  \n",
       "142971   [[0.0, 0.0, 0.0, 0.0, 0.0, 1.0, 0.0, 0.0, 0.0,...  "
      ]
     },
     "execution_count": 48,
     "metadata": {},
     "output_type": "execute_result"
    }
   ],
   "source": [
    "session.head()"
   ]
  },
  {
   "cell_type": "code",
   "execution_count": 50,
   "metadata": {
    "scrolled": true
   },
   "outputs": [
    {
     "data": {
      "text/plain": [
       "0"
      ]
     },
     "execution_count": 50,
     "metadata": {},
     "output_type": "execute_result"
    }
   ],
   "source": [
    "session.PD_CT_Vec.isnull().sum() # 빈 값은 없습니다."
   ]
  },
  {
   "cell_type": "markdown",
   "metadata": {},
   "source": [
    "#### 벡터 활용 시 코드 실행하는데 30분은 소요되니 Pickle 쓰세요"
   ]
  },
  {
   "cell_type": "code",
   "execution_count": 52,
   "metadata": {},
   "outputs": [],
   "source": [
    "import pickle\n",
    "with open('PD_CT_Vec.pickle','wb')as handle:\n",
    "    pickle.dump(prod_count_dict,handle)\n",
    "\n",
    "with open('PD_BIN_Vec.pickle','wb')as handle:\n",
    "    pickle.dump(prod_bin_dict,handle)"
   ]
  },
  {
   "cell_type": "markdown",
   "metadata": {},
   "source": [
    "### SESS_ID 가 같지만 다른 Client여도 일단은 한명의 구매 패턴 벡터로 Mapping되었다는 문제점이 있음. \n",
    "#### 해결 방안1 : SESS_ID 겹치는 2만개 가량의 Records를 제거한다 -> 데이터 손실, 쉬움\n",
    "#### 해결 방안2: SESS_ID 이름을 바꿔서 전부 다시 진행한다 -> 정확, 시간 소요"
   ]
  }
 ],
 "metadata": {
  "kernelspec": {
   "display_name": "Python 3",
   "language": "python",
   "name": "python3"
  },
  "language_info": {
   "codemirror_mode": {
    "name": "ipython",
    "version": 3
   },
   "file_extension": ".py",
   "mimetype": "text/x-python",
   "name": "python",
   "nbconvert_exporter": "python",
   "pygments_lexer": "ipython3",
   "version": "3.7.3"
  }
 },
 "nbformat": 4,
 "nbformat_minor": 2
}
