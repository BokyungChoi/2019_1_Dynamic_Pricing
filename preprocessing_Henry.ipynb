{
 "cells": [
  {
   "cell_type": "code",
   "execution_count": 1,
   "metadata": {},
   "outputs": [],
   "source": [
    "import numpy as np\n",
    "import pandas as pd"
   ]
  },
  {
   "cell_type": "code",
   "execution_count": 2,
   "metadata": {},
   "outputs": [
    {
     "name": "stderr",
     "output_type": "stream",
     "text": [
      "C:\\Users\\USER\\Anaconda3\\lib\\site-packages\\IPython\\core\\interactiveshell.py:3020: DtypeWarning: Columns (7) have mixed types. Specify dtype option on import or set low_memory=False.\n",
      "  interactivity=interactivity, compiler=compiler, result=result)\n"
     ]
    }
   ],
   "source": [
    "Pruduct = pd.read_csv('C:\\\\Users\\\\USER\\\\Desktop\\\\Dynamic pricing\\\\Pruduct.csv',encoding='UTF-8')\n"
   ]
  },
  {
   "cell_type": "code",
   "execution_count": 3,
   "metadata": {},
   "outputs": [],
   "source": [
    "Master = pd.read_csv('C:\\\\Users\\\\USER\\\\Desktop\\\\Dynamic pricing\\\\Master.csv',encoding='UTF-8')\n",
    "Search1 = pd.read_csv('C:\\\\Users\\\\USER\\\\Desktop\\\\Dynamic pricing\\\\Search1.csv',encoding='UTF-8')\n",
    "Search2 = pd.read_csv('C:\\\\Users\\\\USER\\\\Desktop\\\\Dynamic pricing\\\\Search2.csv',encoding='UTF-8')\n",
    "Session = pd.read_csv('C:\\\\Users\\\\USER\\\\Desktop\\\\Dynamic pricing\\\\Session.csv',encoding='UTF-8')\n",
    "Custom = pd.read_csv('C:\\\\Users\\\\USER\\\\Desktop\\\\Dynamic pricing\\\\Custom.csv',encoding='UTF-8')\n"
   ]
  },
  {
   "cell_type": "code",
   "execution_count": 4,
   "metadata": {},
   "outputs": [
    {
     "name": "stderr",
     "output_type": "stream",
     "text": [
      "C:\\Users\\USER\\Anaconda3\\lib\\site-packages\\ipykernel_launcher.py:3: FutureWarning: Possible nested set at position 1\n",
      "  This is separate from the ipykernel package so we can avoid doing imports until\n"
     ]
    }
   ],
   "source": [
    "# 브랜드 이름에서 [],() 기호 제거.\n",
    "import re\n",
    "Pruduct['PD_BRA_NM'] = list(map(lambda x:re.sub(\"[[,\\](,)\\s]\", \"\",x),Pruduct['PD_BRA_NM']))"
   ]
  },
  {
   "cell_type": "code",
   "execution_count": 5,
   "metadata": {},
   "outputs": [],
   "source": [
    "#구매가격 변수를 str -> int 변환.\n",
    "Pruduct['PD_BUY_AM'] = list(map(lambda x:x.replace(\",\",\"\"),Pruduct['PD_BUY_AM']))\n",
    "Pruduct['PD_BUY_AM'] = Pruduct['PD_BUY_AM'].astype(int)"
   ]
  },
  {
   "cell_type": "code",
   "execution_count": 6,
   "metadata": {},
   "outputs": [],
   "source": [
    "# 구매개수 변수를 str&int -> int로 변환.\n",
    "Pruduct['PD_BUY_CT'] = Pruduct['PD_BUY_CT'].astype(str)\n",
    "Pruduct['PD_BUY_CT'] = list(map(lambda x:x.replace(\",\",\"\"),Pruduct['PD_BUY_CT']))\n",
    "Pruduct['PD_BUY_CT'] = Pruduct['PD_BUY_CT'].astype(int)"
   ]
  },
  {
   "cell_type": "code",
   "execution_count": 7,
   "metadata": {},
   "outputs": [],
   "source": [
    "# SESS_DT을 월, 주, 요일로 변환. \n",
    "Session['SESS_DT.str'] = Session['SESS_DT'].astype(str) # int object is not subsriptable \n",
    "Session['SESS_DT.str'] = list(map(lambda x:x[0:4] +'-'+x[4:6]+'-'+x[6:8],Session['SESS_DT.str']))\n",
    "Session['MONTH'] = list(map(lambda x:x[5:7],Session['SESS_DT.str']))"
   ]
  },
  {
   "cell_type": "code",
   "execution_count": 19,
   "metadata": {},
   "outputs": [
    {
     "ename": "AttributeError",
     "evalue": "module 'datetime' has no attribute 'strptime'",
     "output_type": "error",
     "traceback": [
      "\u001b[1;31m---------------------------------------------------------------------------\u001b[0m",
      "\u001b[1;31mAttributeError\u001b[0m                            Traceback (most recent call last)",
      "\u001b[1;32m<ipython-input-19-e79595f1634f>\u001b[0m in \u001b[0;36m<module>\u001b[1;34m\u001b[0m\n\u001b[0;32m      1\u001b[0m \u001b[1;31m## 월요일을 기준으로 2018-04-02은  04-02 ~ 04-08에 해당.\u001b[0m\u001b[1;33m\u001b[0m\u001b[1;33m\u001b[0m\u001b[1;33m\u001b[0m\u001b[0m\n\u001b[0;32m      2\u001b[0m \u001b[1;32mimport\u001b[0m \u001b[0mdatetime\u001b[0m\u001b[1;33m\u001b[0m\u001b[1;33m\u001b[0m\u001b[0m\n\u001b[1;32m----> 3\u001b[1;33m \u001b[0mSession\u001b[0m\u001b[1;33m[\u001b[0m\u001b[1;34m'WEEK'\u001b[0m\u001b[1;33m]\u001b[0m \u001b[1;33m=\u001b[0m \u001b[0mlist\u001b[0m\u001b[1;33m(\u001b[0m\u001b[0mmap\u001b[0m\u001b[1;33m(\u001b[0m\u001b[1;32mlambda\u001b[0m \u001b[0mx\u001b[0m\u001b[1;33m:\u001b[0m\u001b[0mdatetime\u001b[0m\u001b[1;33m.\u001b[0m\u001b[0mstrptime\u001b[0m\u001b[1;33m(\u001b[0m\u001b[0mx\u001b[0m\u001b[1;33m,\u001b[0m \u001b[1;34m'%Y-%m-%d'\u001b[0m\u001b[1;33m)\u001b[0m\u001b[1;33m.\u001b[0m\u001b[0mstrftime\u001b[0m\u001b[1;33m(\u001b[0m\u001b[1;34m'%Y-%U-1'\u001b[0m\u001b[1;33m)\u001b[0m\u001b[1;33m,\u001b[0m\u001b[0mSession\u001b[0m\u001b[1;33m[\u001b[0m\u001b[1;34m'SESS_DT'\u001b[0m\u001b[1;33m]\u001b[0m\u001b[1;33m)\u001b[0m\u001b[1;33m)\u001b[0m\u001b[1;33m\u001b[0m\u001b[1;33m\u001b[0m\u001b[0m\n\u001b[0m\u001b[0;32m      4\u001b[0m \u001b[0mSession\u001b[0m\u001b[1;33m[\u001b[0m\u001b[1;34m'WEEK'\u001b[0m\u001b[1;33m]\u001b[0m \u001b[1;33m=\u001b[0m \u001b[0mlist\u001b[0m\u001b[1;33m(\u001b[0m\u001b[0mmap\u001b[0m\u001b[1;33m(\u001b[0m\u001b[1;32mlambda\u001b[0m \u001b[0mx\u001b[0m\u001b[1;33m:\u001b[0m\u001b[0mdatetime\u001b[0m\u001b[1;33m.\u001b[0m\u001b[0mstrptime\u001b[0m\u001b[1;33m(\u001b[0m\u001b[0mx\u001b[0m\u001b[1;33m,\u001b[0m \u001b[1;34m'%Y-%U-%w'\u001b[0m\u001b[1;33m)\u001b[0m\u001b[1;33m.\u001b[0m\u001b[0mstrftime\u001b[0m\u001b[1;33m(\u001b[0m\u001b[1;34m'%Y-%m-%d'\u001b[0m\u001b[1;33m)\u001b[0m\u001b[1;33m,\u001b[0m\u001b[0mSession\u001b[0m\u001b[1;33m[\u001b[0m\u001b[1;34m'WEEK'\u001b[0m\u001b[1;33m]\u001b[0m\u001b[1;33m)\u001b[0m\u001b[1;33m)\u001b[0m\u001b[1;33m\u001b[0m\u001b[1;33m\u001b[0m\u001b[0m\n",
      "\u001b[1;32m<ipython-input-19-e79595f1634f>\u001b[0m in \u001b[0;36m<lambda>\u001b[1;34m(x)\u001b[0m\n\u001b[0;32m      1\u001b[0m \u001b[1;31m## 월요일을 기준으로 2018-04-02은  04-02 ~ 04-08에 해당.\u001b[0m\u001b[1;33m\u001b[0m\u001b[1;33m\u001b[0m\u001b[1;33m\u001b[0m\u001b[0m\n\u001b[0;32m      2\u001b[0m \u001b[1;32mimport\u001b[0m \u001b[0mdatetime\u001b[0m\u001b[1;33m\u001b[0m\u001b[1;33m\u001b[0m\u001b[0m\n\u001b[1;32m----> 3\u001b[1;33m \u001b[0mSession\u001b[0m\u001b[1;33m[\u001b[0m\u001b[1;34m'WEEK'\u001b[0m\u001b[1;33m]\u001b[0m \u001b[1;33m=\u001b[0m \u001b[0mlist\u001b[0m\u001b[1;33m(\u001b[0m\u001b[0mmap\u001b[0m\u001b[1;33m(\u001b[0m\u001b[1;32mlambda\u001b[0m \u001b[0mx\u001b[0m\u001b[1;33m:\u001b[0m\u001b[0mdatetime\u001b[0m\u001b[1;33m.\u001b[0m\u001b[0mstrptime\u001b[0m\u001b[1;33m(\u001b[0m\u001b[0mx\u001b[0m\u001b[1;33m,\u001b[0m \u001b[1;34m'%Y-%m-%d'\u001b[0m\u001b[1;33m)\u001b[0m\u001b[1;33m.\u001b[0m\u001b[0mstrftime\u001b[0m\u001b[1;33m(\u001b[0m\u001b[1;34m'%Y-%U-1'\u001b[0m\u001b[1;33m)\u001b[0m\u001b[1;33m,\u001b[0m\u001b[0mSession\u001b[0m\u001b[1;33m[\u001b[0m\u001b[1;34m'SESS_DT'\u001b[0m\u001b[1;33m]\u001b[0m\u001b[1;33m)\u001b[0m\u001b[1;33m)\u001b[0m\u001b[1;33m\u001b[0m\u001b[1;33m\u001b[0m\u001b[0m\n\u001b[0m\u001b[0;32m      4\u001b[0m \u001b[0mSession\u001b[0m\u001b[1;33m[\u001b[0m\u001b[1;34m'WEEK'\u001b[0m\u001b[1;33m]\u001b[0m \u001b[1;33m=\u001b[0m \u001b[0mlist\u001b[0m\u001b[1;33m(\u001b[0m\u001b[0mmap\u001b[0m\u001b[1;33m(\u001b[0m\u001b[1;32mlambda\u001b[0m \u001b[0mx\u001b[0m\u001b[1;33m:\u001b[0m\u001b[0mdatetime\u001b[0m\u001b[1;33m.\u001b[0m\u001b[0mstrptime\u001b[0m\u001b[1;33m(\u001b[0m\u001b[0mx\u001b[0m\u001b[1;33m,\u001b[0m \u001b[1;34m'%Y-%U-%w'\u001b[0m\u001b[1;33m)\u001b[0m\u001b[1;33m.\u001b[0m\u001b[0mstrftime\u001b[0m\u001b[1;33m(\u001b[0m\u001b[1;34m'%Y-%m-%d'\u001b[0m\u001b[1;33m)\u001b[0m\u001b[1;33m,\u001b[0m\u001b[0mSession\u001b[0m\u001b[1;33m[\u001b[0m\u001b[1;34m'WEEK'\u001b[0m\u001b[1;33m]\u001b[0m\u001b[1;33m)\u001b[0m\u001b[1;33m)\u001b[0m\u001b[1;33m\u001b[0m\u001b[1;33m\u001b[0m\u001b[0m\n",
      "\u001b[1;31mAttributeError\u001b[0m: module 'datetime' has no attribute 'strptime'"
     ]
    }
   ],
   "source": [
    "## 월요일을 기준으로 2018-04-02은  04-02 ~ 04-08에 해당. \n",
    "#import datetime\n",
    "#Session['WEEK'] = list(map(lambda x:datetime.strptime(x, '%Y-%m-%d').strftime('%Y-%U-1'),Session['SESS_DT'])) \n",
    "#Session['WEEK'] = list(map(lambda x:datetime.strptime(x, '%Y-%U-%w').strftime('%Y-%m-%d'),Session['WEEK'])) "
   ]
  },
  {
   "cell_type": "code",
   "execution_count": null,
   "metadata": {},
   "outputs": [],
   "source": [
    "## 0 = 월요일, 6 = 일요일\n",
    "#Session['DAY'] = list(map(lambda x:datetime.strptime(x, '%Y-%m-%d').weekday(),Session['SESS_DT'])) "
   ]
  },
  {
   "cell_type": "code",
   "execution_count": 8,
   "metadata": {},
   "outputs": [],
   "source": [
    "raw = pd.merge(Pruduct,Custom, how = 'left', on = ['CLNT_ID']) \n",
    "raw = pd.merge(raw,Master, how = 'left', on = ['PD_C']) \n",
    "raw = pd.merge(raw,Session, how = 'left', on = ['CLNT_ID','SESS_ID']) "
   ]
  },
  {
   "cell_type": "code",
   "execution_count": null,
   "metadata": {},
   "outputs": [],
   "source": [
    "# search1 키값을 기준으로 변수 전처리 필요! \n",
    "# 한 세션에서 총 검색량\n",
    "#raw = pd.merge(raw,Search1.groupby(['CLNT_ID','SESS_ID']).sum().fillna(0), how = 'left', on = ['CLNT_ID','SESS_ID']) \n",
    "# 한 세션에서 검색 종류\n",
    "#raw = pd.merge(raw,Search1.groupby(['CLNT_ID','SESS_ID']).count()['KWD_NM'].fillna(0), how = 'left', on = ['CLNT_ID','SESS_ID']) \n",
    "# 열 이름 변경 \n",
    "#raw.rename(columns={'SEARCH_CNT': 'SEARCH_TOT_CNT', 'KWD_NM': 'KWD_NUM'}, inplace=True)"
   ]
  },
  {
   "cell_type": "code",
   "execution_count": null,
   "metadata": {},
   "outputs": [],
   "source": [
    "# Search2 \n",
    "#Search2= Search2.sort_values('SESS_DT')\n",
    "#Search2.head()\n",
    "#len(Search1.loc[:,['CLNT_ID','SESS_ID']].drop_duplicates())"
   ]
  },
  {
   "cell_type": "code",
   "execution_count": 29,
   "metadata": {},
   "outputs": [],
   "source": [
    "# city_dm = session.groupby(['CITY_NM','SESS_DT']).CLNT_ID.nunique() # 지역& 날짜별 CLNT 수 "
   ]
  },
  {
   "cell_type": "code",
   "execution_count": 11,
   "metadata": {},
   "outputs": [],
   "source": [
    "raw['SESS_DT'] = pd.to_datetime(raw['SESS_DT'], format = '%Y%m%d') #yyyy-mm-dd형태로 변환\n",
    "# Session['SESS_WEEKDAYS'] = Session['SESS_WEEKDAYS'].dt.day_name() # day로 변환"
   ]
  },
  {
   "cell_type": "code",
   "execution_count": 71,
   "metadata": {},
   "outputs": [],
   "source": [
    "raw = raw.sort_values(['CLNT_ID','SESS_ID'],ascending=False)\n",
    "#SESSION ID가 작을수록 최신이므로 day가 크다 \n",
    "#raw['DT_DIFF']=raw.groupby('CLNT_ID')['SESS_DT'].diff() -> 이것도 가능하긴한데 오래걸림\n",
    "#대신 이거는 수정작업한번 필요 - 1) 일단 다 빼준다\n",
    "raw['DT_DIFF'] = raw['SESS_DT'].diff()"
   ]
  },
  {
   "cell_type": "code",
   "execution_count": 72,
   "metadata": {},
   "outputs": [],
   "source": [
    "#CLNT_ID가 변하는 경우에만 None로 수정\n",
    "raw.loc[raw.CLNT_ID != raw.CLNT_ID.shift(),'DT_DIFF'] = None"
   ]
  },
  {
   "cell_type": "code",
   "execution_count": 147,
   "metadata": {
    "scrolled": true
   },
   "outputs": [
    {
     "data": {
      "text/html": [
       "<div>\n",
       "<style scoped>\n",
       "    .dataframe tbody tr th:only-of-type {\n",
       "        vertical-align: middle;\n",
       "    }\n",
       "\n",
       "    .dataframe tbody tr th {\n",
       "        vertical-align: top;\n",
       "    }\n",
       "\n",
       "    .dataframe thead th {\n",
       "        text-align: right;\n",
       "    }\n",
       "</style>\n",
       "<table border=\"1\" class=\"dataframe\">\n",
       "  <thead>\n",
       "    <tr style=\"text-align: right;\">\n",
       "      <th></th>\n",
       "      <th>CLNT_ID</th>\n",
       "      <th>SESS_ID</th>\n",
       "      <th>HITS_SEQ</th>\n",
       "      <th>PD_C</th>\n",
       "      <th>PD_ADD_NM</th>\n",
       "      <th>PD_BRA_NM</th>\n",
       "      <th>PD_BUY_AM</th>\n",
       "      <th>PD_BUY_CT</th>\n",
       "      <th>CLNT_GENDER</th>\n",
       "      <th>CLNT_AGE</th>\n",
       "      <th>...</th>\n",
       "      <th>SESS_SEQ</th>\n",
       "      <th>SESS_DT</th>\n",
       "      <th>TOT_PAG_VIEW_CT</th>\n",
       "      <th>TOT_SESS_HR_V</th>\n",
       "      <th>DVC_CTG_NM</th>\n",
       "      <th>ZON_NM</th>\n",
       "      <th>CITY_NM</th>\n",
       "      <th>SESS_DT.str</th>\n",
       "      <th>MONTH</th>\n",
       "      <th>DT_DIFF</th>\n",
       "    </tr>\n",
       "  </thead>\n",
       "  <tbody>\n",
       "    <tr>\n",
       "      <th>120456</th>\n",
       "      <td>6592554</td>\n",
       "      <td>7240794</td>\n",
       "      <td>9</td>\n",
       "      <td>255120</td>\n",
       "      <td>색상:브라운(Brown)/사이즈:235mm</td>\n",
       "      <td>사뿐Sappun</td>\n",
       "      <td>40900</td>\n",
       "      <td>1</td>\n",
       "      <td>NaN</td>\n",
       "      <td>NaN</td>\n",
       "      <td>...</td>\n",
       "      <td>1</td>\n",
       "      <td>2018-06-01</td>\n",
       "      <td>13.0</td>\n",
       "      <td>1,218</td>\n",
       "      <td>desktop</td>\n",
       "      <td>Gyeonggi-do</td>\n",
       "      <td>Bucheon-si</td>\n",
       "      <td>2018-06-01</td>\n",
       "      <td>06</td>\n",
       "      <td>NaT</td>\n",
       "    </tr>\n",
       "    <tr>\n",
       "      <th>287918</th>\n",
       "      <td>6592554</td>\n",
       "      <td>7240794</td>\n",
       "      <td>9</td>\n",
       "      <td>742670</td>\n",
       "      <td>색상:토프</td>\n",
       "      <td>바비브라운</td>\n",
       "      <td>42000</td>\n",
       "      <td>1</td>\n",
       "      <td>NaN</td>\n",
       "      <td>NaN</td>\n",
       "      <td>...</td>\n",
       "      <td>1</td>\n",
       "      <td>2018-06-01</td>\n",
       "      <td>13.0</td>\n",
       "      <td>1,218</td>\n",
       "      <td>desktop</td>\n",
       "      <td>Gyeonggi-do</td>\n",
       "      <td>Bucheon-si</td>\n",
       "      <td>2018-06-01</td>\n",
       "      <td>06</td>\n",
       "      <td>0 days</td>\n",
       "    </tr>\n",
       "    <tr>\n",
       "      <th>416807</th>\n",
       "      <td>6592554</td>\n",
       "      <td>7240794</td>\n",
       "      <td>9</td>\n",
       "      <td>344451</td>\n",
       "      <td>색상:641 오렌지</td>\n",
       "      <td>디올</td>\n",
       "      <td>43000</td>\n",
       "      <td>1</td>\n",
       "      <td>NaN</td>\n",
       "      <td>NaN</td>\n",
       "      <td>...</td>\n",
       "      <td>1</td>\n",
       "      <td>2018-06-01</td>\n",
       "      <td>13.0</td>\n",
       "      <td>1,218</td>\n",
       "      <td>desktop</td>\n",
       "      <td>Gyeonggi-do</td>\n",
       "      <td>Bucheon-si</td>\n",
       "      <td>2018-06-01</td>\n",
       "      <td>06</td>\n",
       "      <td>0 days</td>\n",
       "    </tr>\n",
       "    <tr>\n",
       "      <th>4822824</th>\n",
       "      <td>6592554</td>\n",
       "      <td>7240794</td>\n",
       "      <td>9</td>\n",
       "      <td>455338</td>\n",
       "      <td>컬러:핫 레드</td>\n",
       "      <td>나스</td>\n",
       "      <td>37000</td>\n",
       "      <td>2</td>\n",
       "      <td>NaN</td>\n",
       "      <td>NaN</td>\n",
       "      <td>...</td>\n",
       "      <td>1</td>\n",
       "      <td>2018-06-01</td>\n",
       "      <td>13.0</td>\n",
       "      <td>1,218</td>\n",
       "      <td>desktop</td>\n",
       "      <td>Gyeonggi-do</td>\n",
       "      <td>Bucheon-si</td>\n",
       "      <td>2018-06-01</td>\n",
       "      <td>06</td>\n",
       "      <td>0 days</td>\n",
       "    </tr>\n",
       "    <tr>\n",
       "      <th>177649</th>\n",
       "      <td>6592553</td>\n",
       "      <td>3241408</td>\n",
       "      <td>31</td>\n",
       "      <td>5977</td>\n",
       "      <td>1개</td>\n",
       "      <td>본타몰</td>\n",
       "      <td>1600</td>\n",
       "      <td>1</td>\n",
       "      <td>F</td>\n",
       "      <td>40.0</td>\n",
       "      <td>...</td>\n",
       "      <td>2</td>\n",
       "      <td>2018-08-06</td>\n",
       "      <td>35.0</td>\n",
       "      <td>1,662</td>\n",
       "      <td>mobile</td>\n",
       "      <td>Seoul</td>\n",
       "      <td>Seoul</td>\n",
       "      <td>2018-08-06</td>\n",
       "      <td>08</td>\n",
       "      <td>NaT</td>\n",
       "    </tr>\n",
       "    <tr>\n",
       "      <th>3075526</th>\n",
       "      <td>6592553</td>\n",
       "      <td>3241408</td>\n",
       "      <td>31</td>\n",
       "      <td>120039</td>\n",
       "      <td>색상:화이트(022)|사이즈:FREE(000) / 1개</td>\n",
       "      <td>에이치커넥트</td>\n",
       "      <td>15000</td>\n",
       "      <td>1</td>\n",
       "      <td>F</td>\n",
       "      <td>40.0</td>\n",
       "      <td>...</td>\n",
       "      <td>2</td>\n",
       "      <td>2018-08-06</td>\n",
       "      <td>35.0</td>\n",
       "      <td>1,662</td>\n",
       "      <td>mobile</td>\n",
       "      <td>Seoul</td>\n",
       "      <td>Seoul</td>\n",
       "      <td>2018-08-06</td>\n",
       "      <td>08</td>\n",
       "      <td>0 days</td>\n",
       "    </tr>\n",
       "    <tr>\n",
       "      <th>3708483</th>\n",
       "      <td>6592553</td>\n",
       "      <td>3241408</td>\n",
       "      <td>31</td>\n",
       "      <td>225586</td>\n",
       "      <td>색상:네이비(275)|사이즈:FREE(000) / 1개</td>\n",
       "      <td>에이치커넥트</td>\n",
       "      <td>19900</td>\n",
       "      <td>1</td>\n",
       "      <td>F</td>\n",
       "      <td>40.0</td>\n",
       "      <td>...</td>\n",
       "      <td>2</td>\n",
       "      <td>2018-08-06</td>\n",
       "      <td>35.0</td>\n",
       "      <td>1,662</td>\n",
       "      <td>mobile</td>\n",
       "      <td>Seoul</td>\n",
       "      <td>Seoul</td>\n",
       "      <td>2018-08-06</td>\n",
       "      <td>08</td>\n",
       "      <td>0 days</td>\n",
       "    </tr>\n",
       "    <tr>\n",
       "      <th>3717542</th>\n",
       "      <td>6592553</td>\n",
       "      <td>3241408</td>\n",
       "      <td>31</td>\n",
       "      <td>547925</td>\n",
       "      <td>색상:스카이 블루|Size:S / 1개</td>\n",
       "      <td>에잇세컨즈</td>\n",
       "      <td>19900</td>\n",
       "      <td>1</td>\n",
       "      <td>F</td>\n",
       "      <td>40.0</td>\n",
       "      <td>...</td>\n",
       "      <td>2</td>\n",
       "      <td>2018-08-06</td>\n",
       "      <td>35.0</td>\n",
       "      <td>1,662</td>\n",
       "      <td>mobile</td>\n",
       "      <td>Seoul</td>\n",
       "      <td>Seoul</td>\n",
       "      <td>2018-08-06</td>\n",
       "      <td>08</td>\n",
       "      <td>0 days</td>\n",
       "    </tr>\n",
       "    <tr>\n",
       "      <th>4005440</th>\n",
       "      <td>6592553</td>\n",
       "      <td>3241408</td>\n",
       "      <td>31</td>\n",
       "      <td>420913</td>\n",
       "      <td>색상:49_카키|사이즈:105XL / 1개</td>\n",
       "      <td>뉴발란스의류</td>\n",
       "      <td>24100</td>\n",
       "      <td>1</td>\n",
       "      <td>F</td>\n",
       "      <td>40.0</td>\n",
       "      <td>...</td>\n",
       "      <td>2</td>\n",
       "      <td>2018-08-06</td>\n",
       "      <td>35.0</td>\n",
       "      <td>1,662</td>\n",
       "      <td>mobile</td>\n",
       "      <td>Seoul</td>\n",
       "      <td>Seoul</td>\n",
       "      <td>2018-08-06</td>\n",
       "      <td>08</td>\n",
       "      <td>0 days</td>\n",
       "    </tr>\n",
       "    <tr>\n",
       "      <th>4094847</th>\n",
       "      <td>6592553</td>\n",
       "      <td>3241408</td>\n",
       "      <td>31</td>\n",
       "      <td>113030</td>\n",
       "      <td>상품코드:05_892764_010|사이즈:FREE / 1개</td>\n",
       "      <td>나이키골프</td>\n",
       "      <td>25000</td>\n",
       "      <td>1</td>\n",
       "      <td>F</td>\n",
       "      <td>40.0</td>\n",
       "      <td>...</td>\n",
       "      <td>2</td>\n",
       "      <td>2018-08-06</td>\n",
       "      <td>35.0</td>\n",
       "      <td>1,662</td>\n",
       "      <td>mobile</td>\n",
       "      <td>Seoul</td>\n",
       "      <td>Seoul</td>\n",
       "      <td>2018-08-06</td>\n",
       "      <td>08</td>\n",
       "      <td>0 days</td>\n",
       "    </tr>\n",
       "    <tr>\n",
       "      <th>4634343</th>\n",
       "      <td>6592553</td>\n",
       "      <td>3241408</td>\n",
       "      <td>31</td>\n",
       "      <td>810304</td>\n",
       "      <td>1개</td>\n",
       "      <td>헬렌스타인</td>\n",
       "      <td>33900</td>\n",
       "      <td>1</td>\n",
       "      <td>F</td>\n",
       "      <td>40.0</td>\n",
       "      <td>...</td>\n",
       "      <td>2</td>\n",
       "      <td>2018-08-06</td>\n",
       "      <td>35.0</td>\n",
       "      <td>1,662</td>\n",
       "      <td>mobile</td>\n",
       "      <td>Seoul</td>\n",
       "      <td>Seoul</td>\n",
       "      <td>2018-08-06</td>\n",
       "      <td>08</td>\n",
       "      <td>0 days</td>\n",
       "    </tr>\n",
       "    <tr>\n",
       "      <th>5293</th>\n",
       "      <td>6592553</td>\n",
       "      <td>2537044</td>\n",
       "      <td>11</td>\n",
       "      <td>636488</td>\n",
       "      <td>1개</td>\n",
       "      <td>이니스프리</td>\n",
       "      <td>550</td>\n",
       "      <td>1</td>\n",
       "      <td>F</td>\n",
       "      <td>40.0</td>\n",
       "      <td>...</td>\n",
       "      <td>27</td>\n",
       "      <td>2018-08-18</td>\n",
       "      <td>10.0</td>\n",
       "      <td>456</td>\n",
       "      <td>mobile</td>\n",
       "      <td>Incheon</td>\n",
       "      <td>Incheon</td>\n",
       "      <td>2018-08-18</td>\n",
       "      <td>08</td>\n",
       "      <td>12 days</td>\n",
       "    </tr>\n",
       "    <tr>\n",
       "      <th>48454</th>\n",
       "      <td>6592553</td>\n",
       "      <td>2537044</td>\n",
       "      <td>11</td>\n",
       "      <td>636487</td>\n",
       "      <td>1개</td>\n",
       "      <td>이니스프리</td>\n",
       "      <td>550</td>\n",
       "      <td>1</td>\n",
       "      <td>F</td>\n",
       "      <td>40.0</td>\n",
       "      <td>...</td>\n",
       "      <td>27</td>\n",
       "      <td>2018-08-18</td>\n",
       "      <td>10.0</td>\n",
       "      <td>456</td>\n",
       "      <td>mobile</td>\n",
       "      <td>Incheon</td>\n",
       "      <td>Incheon</td>\n",
       "      <td>2018-08-18</td>\n",
       "      <td>08</td>\n",
       "      <td>0 days</td>\n",
       "    </tr>\n",
       "    <tr>\n",
       "      <th>51696</th>\n",
       "      <td>6592553</td>\n",
       "      <td>2537044</td>\n",
       "      <td>11</td>\n",
       "      <td>636492</td>\n",
       "      <td>1개</td>\n",
       "      <td>이니스프리</td>\n",
       "      <td>550</td>\n",
       "      <td>1</td>\n",
       "      <td>F</td>\n",
       "      <td>40.0</td>\n",
       "      <td>...</td>\n",
       "      <td>27</td>\n",
       "      <td>2018-08-18</td>\n",
       "      <td>10.0</td>\n",
       "      <td>456</td>\n",
       "      <td>mobile</td>\n",
       "      <td>Incheon</td>\n",
       "      <td>Incheon</td>\n",
       "      <td>2018-08-18</td>\n",
       "      <td>08</td>\n",
       "      <td>0 days</td>\n",
       "    </tr>\n",
       "    <tr>\n",
       "      <th>196541</th>\n",
       "      <td>6592553</td>\n",
       "      <td>2537044</td>\n",
       "      <td>11</td>\n",
       "      <td>709612</td>\n",
       "      <td>1개</td>\n",
       "      <td>이니스프리</td>\n",
       "      <td>2400</td>\n",
       "      <td>1</td>\n",
       "      <td>F</td>\n",
       "      <td>40.0</td>\n",
       "      <td>...</td>\n",
       "      <td>27</td>\n",
       "      <td>2018-08-18</td>\n",
       "      <td>10.0</td>\n",
       "      <td>456</td>\n",
       "      <td>mobile</td>\n",
       "      <td>Incheon</td>\n",
       "      <td>Incheon</td>\n",
       "      <td>2018-08-18</td>\n",
       "      <td>08</td>\n",
       "      <td>0 days</td>\n",
       "    </tr>\n",
       "  </tbody>\n",
       "</table>\n",
       "<p>15 rows × 24 columns</p>\n",
       "</div>"
      ],
      "text/plain": [
       "         CLNT_ID  SESS_ID  HITS_SEQ    PD_C                         PD_ADD_NM  \\\n",
       "120456   6592554  7240794         9  255120           색상:브라운(Brown)/사이즈:235mm   \n",
       "287918   6592554  7240794         9  742670                             색상:토프   \n",
       "416807   6592554  7240794         9  344451                        색상:641 오렌지   \n",
       "4822824  6592554  7240794         9  455338                           컬러:핫 레드   \n",
       "177649   6592553  3241408        31    5977                                1개   \n",
       "3075526  6592553  3241408        31  120039    색상:화이트(022)|사이즈:FREE(000) / 1개   \n",
       "3708483  6592553  3241408        31  225586    색상:네이비(275)|사이즈:FREE(000) / 1개   \n",
       "3717542  6592553  3241408        31  547925             색상:스카이 블루|Size:S / 1개   \n",
       "4005440  6592553  3241408        31  420913           색상:49_카키|사이즈:105XL / 1개   \n",
       "4094847  6592553  3241408        31  113030  상품코드:05_892764_010|사이즈:FREE / 1개   \n",
       "4634343  6592553  3241408        31  810304                                1개   \n",
       "5293     6592553  2537044        11  636488                                1개   \n",
       "48454    6592553  2537044        11  636487                                1개   \n",
       "51696    6592553  2537044        11  636492                                1개   \n",
       "196541   6592553  2537044        11  709612                                1개   \n",
       "\n",
       "        PD_BRA_NM  PD_BUY_AM  PD_BUY_CT CLNT_GENDER  CLNT_AGE   ...    \\\n",
       "120456   사뿐Sappun      40900          1         NaN       NaN   ...     \n",
       "287918      바비브라운      42000          1         NaN       NaN   ...     \n",
       "416807         디올      43000          1         NaN       NaN   ...     \n",
       "4822824        나스      37000          2         NaN       NaN   ...     \n",
       "177649        본타몰       1600          1           F      40.0   ...     \n",
       "3075526    에이치커넥트      15000          1           F      40.0   ...     \n",
       "3708483    에이치커넥트      19900          1           F      40.0   ...     \n",
       "3717542     에잇세컨즈      19900          1           F      40.0   ...     \n",
       "4005440    뉴발란스의류      24100          1           F      40.0   ...     \n",
       "4094847     나이키골프      25000          1           F      40.0   ...     \n",
       "4634343     헬렌스타인      33900          1           F      40.0   ...     \n",
       "5293        이니스프리        550          1           F      40.0   ...     \n",
       "48454       이니스프리        550          1           F      40.0   ...     \n",
       "51696       이니스프리        550          1           F      40.0   ...     \n",
       "196541      이니스프리       2400          1           F      40.0   ...     \n",
       "\n",
       "        SESS_SEQ    SESS_DT TOT_PAG_VIEW_CT TOT_SESS_HR_V  DVC_CTG_NM  \\\n",
       "120456         1 2018-06-01            13.0         1,218     desktop   \n",
       "287918         1 2018-06-01            13.0         1,218     desktop   \n",
       "416807         1 2018-06-01            13.0         1,218     desktop   \n",
       "4822824        1 2018-06-01            13.0         1,218     desktop   \n",
       "177649         2 2018-08-06            35.0         1,662      mobile   \n",
       "3075526        2 2018-08-06            35.0         1,662      mobile   \n",
       "3708483        2 2018-08-06            35.0         1,662      mobile   \n",
       "3717542        2 2018-08-06            35.0         1,662      mobile   \n",
       "4005440        2 2018-08-06            35.0         1,662      mobile   \n",
       "4094847        2 2018-08-06            35.0         1,662      mobile   \n",
       "4634343        2 2018-08-06            35.0         1,662      mobile   \n",
       "5293          27 2018-08-18            10.0           456      mobile   \n",
       "48454         27 2018-08-18            10.0           456      mobile   \n",
       "51696         27 2018-08-18            10.0           456      mobile   \n",
       "196541        27 2018-08-18            10.0           456      mobile   \n",
       "\n",
       "              ZON_NM     CITY_NM SESS_DT.str MONTH DT_DIFF  \n",
       "120456   Gyeonggi-do  Bucheon-si  2018-06-01    06     NaT  \n",
       "287918   Gyeonggi-do  Bucheon-si  2018-06-01    06  0 days  \n",
       "416807   Gyeonggi-do  Bucheon-si  2018-06-01    06  0 days  \n",
       "4822824  Gyeonggi-do  Bucheon-si  2018-06-01    06  0 days  \n",
       "177649         Seoul       Seoul  2018-08-06    08     NaT  \n",
       "3075526        Seoul       Seoul  2018-08-06    08  0 days  \n",
       "3708483        Seoul       Seoul  2018-08-06    08  0 days  \n",
       "3717542        Seoul       Seoul  2018-08-06    08  0 days  \n",
       "4005440        Seoul       Seoul  2018-08-06    08  0 days  \n",
       "4094847        Seoul       Seoul  2018-08-06    08  0 days  \n",
       "4634343        Seoul       Seoul  2018-08-06    08  0 days  \n",
       "5293         Incheon     Incheon  2018-08-18    08 12 days  \n",
       "48454        Incheon     Incheon  2018-08-18    08  0 days  \n",
       "51696        Incheon     Incheon  2018-08-18    08  0 days  \n",
       "196541       Incheon     Incheon  2018-08-18    08  0 days  \n",
       "\n",
       "[15 rows x 24 columns]"
      ]
     },
     "execution_count": 147,
     "metadata": {},
     "output_type": "execute_result"
    }
   ],
   "source": [
    "raw=pd.DataFrame(raw)\n",
    "raw[0:15]"
   ]
  },
  {
   "cell_type": "code",
   "execution_count": 148,
   "metadata": {},
   "outputs": [
    {
     "data": {
      "text/plain": [
       "(5024906, 24)"
      ]
     },
     "execution_count": 148,
     "metadata": {},
     "output_type": "execute_result"
    }
   ],
   "source": [
    "raw.shape"
   ]
  },
  {
   "cell_type": "code",
   "execution_count": 92,
   "metadata": {},
   "outputs": [],
   "source": [
    "#날짜 차이를 기준으로 그룹형성 -> 갯수(size) 구하기\n",
    "test=raw.groupby('DT_DIFF').size()"
   ]
  },
  {
   "cell_type": "code",
   "execution_count": 93,
   "metadata": {
    "scrolled": true
   },
   "outputs": [],
   "source": [
    "test=pd.DataFrame(test)"
   ]
  },
  {
   "cell_type": "code",
   "execution_count": 124,
   "metadata": {},
   "outputs": [
    {
     "data": {
      "text/plain": [
       "TimedeltaIndex([  '0 days',   '1 days',   '2 days',   '3 days',   '4 days',\n",
       "                  '5 days',   '6 days',   '7 days',   '8 days',   '9 days',\n",
       "                ...\n",
       "                '173 days', '174 days', '175 days', '176 days', '177 days',\n",
       "                '178 days', '179 days', '180 days', '181 days', '182 days'],\n",
       "               dtype='timedelta64[ns]', name='DT_DIFF', length=183, freq=None)"
      ]
     },
     "execution_count": 124,
     "metadata": {},
     "output_type": "execute_result"
    }
   ],
   "source": [
    "test.index"
   ]
  },
  {
   "cell_type": "code",
   "execution_count": 135,
   "metadata": {},
   "outputs": [
    {
     "data": {
      "image/png": "[encoded data removed]",
      "text/plain": [
       "<Figure size 1008x288 with 1 Axes>"
      ]
     },
     "metadata": {
      "needs_background": "light"
     },
     "output_type": "display_data"
    }
   ],
   "source": [
    "import matplotlib.pyplot as plt \n",
    "plt.plot(test.index, test[test<50000])\n",
    "plt.rcParams['figure.figsize']= (14,4)"
   ]
  },
  {
   "cell_type": "code",
   "execution_count": 141,
   "metadata": {},
   "outputs": [],
   "source": [
    "# 하루에도 다른 세션ID로 여러번 구매하신 경우가 있을까? 각 클라이언트별 구매날짜횟수와 SESS_ID횟수 비교\n",
    "a = raw.groupby('CLNT_ID')['SESS_DT'].count()"
   ]
  },
  {
   "cell_type": "code",
   "execution_count": 142,
   "metadata": {},
   "outputs": [],
   "source": [
    "b =raw.groupby('CLNT_ID')['SESS_ID'].count()"
   ]
  },
  {
   "cell_type": "code",
   "execution_count": 144,
   "metadata": {},
   "outputs": [],
   "source": [
    "c = b-a"
   ]
  },
  {
   "cell_type": "code",
   "execution_count": 145,
   "metadata": {},
   "outputs": [
    {
     "data": {
      "text/plain": [
       "0.0"
      ]
     },
     "execution_count": 145,
     "metadata": {},
     "output_type": "execute_result"
    }
   ],
   "source": [
    "np.mean(c)"
   ]
  },
  {
   "cell_type": "code",
   "execution_count": null,
   "metadata": {},
   "outputs": [],
   "source": []
  }
 ],
 "metadata": {
  "kernelspec": {
   "display_name": "Python 3",
   "language": "python",
   "name": "python3"
  },
  "language_info": {
   "codemirror_mode": {
    "name": "ipython",
    "version": 3
   },
   "file_extension": ".py",
   "mimetype": "text/x-python",
   "name": "python",
   "nbconvert_exporter": "python",
   "pygments_lexer": "ipython3",
   "version": "3.7.1"
  }
 },
 "nbformat": 4,
 "nbformat_minor": 2
}
